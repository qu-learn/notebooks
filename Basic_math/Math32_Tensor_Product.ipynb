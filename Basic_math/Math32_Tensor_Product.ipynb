{
 "cells": [
  {
   "cell_type": "markdown",
   "metadata": {},
   "source": [
    "<font style=\"font-size:28px;\" align=\"left\"><b>Matrices: Tensor Product</b></font>\n",
    "<br>\n",
    "_prepared by Abuzer Yakaryilmaz_\n",
    "<br><br>"
   ]
  },
  {
   "cell_type": "markdown",
   "metadata": {},
   "source": [
    "Tensor product is defined between any two matrices. The result is a new probably bigger matrix.\n",
    "\n",
    "Before giving its formal definition, we define it based on examples.\n",
    "\n",
    "We start with a simple case.\n",
    "\n",
    "<i>A vector is also a matrix. Therefore, tensor product can be defined between two vectors or between one vector and one matrix.</i>"
   ]
  },
  {
   "cell_type": "markdown",
   "metadata": {},
   "source": [
    "<h3> Tensor product of two vectors </h3>\n",
    "\n",
    "We have two vectors: $ u = \\begin{pmatrix}-2\\\\3\\end{pmatrix} $ and $ v = \\begin{pmatrix}1 \\\\ 2 \\\\ -3\\end{pmatrix} $.\n",
    "\n",
    "The tensor product of $u$ and $ v $ is denoted by $ u \\otimes v $.\n",
    "\n",
    "We may consider the tensor product as extending $ u $ by $ v $:\n",
    "\n",
    "$$\n",
    "    u \\otimes v =  \\begin{pmatrix}-2\\\\3\\end{pmatrix} \\otimes \\begin{pmatrix}1 \\\\ 2 \\\\ -3\\end{pmatrix} =\n",
    "   \\begin{pmatrix} -2 \\cdot  \\begin{pmatrix}1 \\\\ 2 \\\\ -3\\end{pmatrix} \\\\ 3 \\cdot  \\begin{pmatrix}1 \\\\ 2 \\\\ -3\\end{pmatrix} \\end{pmatrix} =\n",
    "   \\begin{pmatrix} -2 \\\\ -4 \\\\ 6 \\\\ 3 \\\\ 6 \\\\ -9 \\end{pmatrix}.\n",
    "$$\n",
    "\n",
    "Here, $ -2 $ in $ u $ is replaced with the vector $ (-2  v) $, and $ 3 $ in $ u $ is replaced with the vector $ 3 v $.\n",
    "\n",
    "Thus each entry of $ u $ is replaced by a 3-dimensional vector, and the dimension of the result vector is $ 6~(=2 \\cdot 3) $.\n",
    "\n",
    "Algorithmically, each element in $ u $ is replaced by the multiplication of this element with the vector $ v $.\n",
    "\n",
    "Let's find $ v \\otimes u $ in Python."
   ]
  },
  {
   "cell_type": "code",
   "execution_count": null,
   "metadata": {},
   "outputs": [],
   "source": [
    "// vector v\n",
    "let v = [1,2,-3];\n",
    "// vector u\n",
    "let u=[-2,3];\n",
    "\n",
    "let vu = [];\n",
    "\n",
    "for (let i = 0; i < v.length; i++) { // each element of v will be replaced\n",
    "    for (let j = 0; j < u.length; j++) { // the vector u will come here after multiplying with the entry there\n",
    "        vu.push( v[i] * u[j] );\n",
    "    }\n",
    "}\n",
    "\n",
    "console.log(\"v=\",v);\n",
    "console.log(\"u=\",u);\n",
    "console.log(\"vu=\",vu);"
   ]
  },
  {
   "cell_type": "markdown",
   "metadata": {},
   "source": [
    "<h3> Task 1 </h3>\n",
    "\n",
    "Find $ u \\otimes v $ and $ v \\otimes u $ for the given vectors $ u = \\begin{pmatrix}-2 \\\\ -1 \\\\ 0 \\\\ 1\\end{pmatrix} $ and $ v = \\begin{pmatrix} 1 \\\\ 2 \\\\ 3 \\end{pmatrix} $."
   ]
  },
  {
   "cell_type": "code",
   "execution_count": null,
   "metadata": {},
   "outputs": [],
   "source": [
    "//\n",
    "// your solution is here\n",
    "//\n"
   ]
  },
  {
   "cell_type": "markdown",
   "metadata": {},
   "source": [
    "<a href=\"Math32_Tensor_Product_Solutions.ipynb#task1\">click for our solution</a>"
   ]
  },
  {
   "cell_type": "markdown",
   "metadata": {},
   "source": [
    "<h3> Note:</h3>\n",
    "\n",
    "Tensor products are useful when we have a system composed by two (or more) sub-systems. \n",
    "\n",
    "Any new entry after tensoring represents a pair of entries, each of which comes from one of the sub-sytems.\n",
    "\n",
    "We will see the usage of tensor products in the main tutorial."
   ]
  },
  {
   "cell_type": "markdown",
   "metadata": {},
   "source": [
    "<h3> Tensor product of two matrices </h3>\n",
    "\n",
    "The definition is the same.\n",
    "\n",
    "Let's find $ M \\otimes N $ and $ N \\otimes M $ for the given matrices\n",
    "$\n",
    "    M = \\begin{pmatrix}-1 & 0 & 1 \\\\ -2 & -1 & 2 \\\\ 1 & 2 & -2\\end{pmatrix} ~~\\mbox{and}~~ \n",
    "    N = \\begin{pmatrix}0 & 2 & 1 \\\\ 3 & -1 & -2 \\\\ -1 & 1 & 0\\end{pmatrix}.\n",
    "$\n",
    "\n",
    "$ M \\otimes N $: Each element of $ M $ will be replaced with the whole matrix $ N $ after multiplying with this element.\n",
    "\n",
    "$$\n",
    "    M \\otimes N =\n",
    "    \\begin{pmatrix}-1 & 0 & 1 \\\\ -2 & -1 & 2 \\\\ 1 & 2 & -2\\end{pmatrix} \\otimes \\begin{pmatrix}0 & 2 & 1 \\\\ 3 & -1 & -2 \\\\ -1 & 1 & 0\\end{pmatrix}\n",
    "    =\n",
    "    \\begin{pmatrix} -1 \\begin{pmatrix}0 & 2 & 1 \\\\ 3 & -1 & -2 \\\\ -1 & 1 & 0\\end{pmatrix} & 0 \\begin{pmatrix}0 & 2 & 1 \\\\ 3 & -1 & -2 \\\\ -1 & 1 & 0\\end{pmatrix} & 1 \\begin{pmatrix}0 & 2 & 1 \\\\ 3 & -1 & -2 \\\\ -1 & 1 & 0\\end{pmatrix} \\\\\n",
    "    -2 \\begin{pmatrix}0 & 2 & 1 \\\\ 3 & -1 & -2 \\\\ -1 & 1 & 0\\end{pmatrix} & -1 \\begin{pmatrix}0 & 2 & 1 \\\\ 3 & -1 & -2 \\\\ -1 & 1 & 0\\end{pmatrix} & 2 \\begin{pmatrix}0 & 2 & 1 \\\\ 3 & -1 & -2 \\\\ -1 & 1 & 0\\end{pmatrix} \\\\\n",
    "    1 \\begin{pmatrix}0 & 2 & 1 \\\\ 3 & -1 & -2 \\\\ -1 & 1 & 0\\end{pmatrix} & 2 \\begin{pmatrix}0 & 2 & 1 \\\\ 3 & -1 & -2 \\\\ -1 & 1 & 0\\end{pmatrix} & -2 \\begin{pmatrix}0 & 2 & 1 \\\\ 3 & -1 & -2 \\\\ -1 & 1 & 0\\end{pmatrix}\\end{pmatrix}\n",
    "$$\n",
    "\n",
    "Calculating by hand looks a boring task because of many repetitions. \n",
    "\n",
    "We do this once by hand (in mind), and then check the result by Python."
   ]
  },
  {
   "cell_type": "markdown",
   "metadata": {},
   "source": [
    "$$\n",
    "    M \\otimes N = \\begin{pmatrix}\n",
    "        0 & -2 & -1 & 0 & 0 & 0 & 0 & 2 & 1 \\\\\n",
    "        -3 & 1 & 2 & 0 & 0 & 0 & 3 & -1 & -2 \\\\\n",
    "        1 & -1 & 0 & 0 & 0 & 0 & -1 & 1 & 0 \\\\\n",
    "        0 & -4 & -2 & 0 & -2 & -1 & 0 & 4 & 2 \\\\\n",
    "        -6 & 2 & 4 & -3 & 1 & 2 & 6 & -2 & -4 \\\\\n",
    "        2 & -2 & 0 & 1 & -1 & 0 & -2 & 2 & 0 \\\\\n",
    "        0 & 2 & 1 & 0 & 4 & 2 & 0 &  -4 & -2 \\\\\n",
    "        3 & -1 & -2 & 6 & -2 & -4 & -6 & 2 & 4 \\\\\n",
    "        -1 & 1 & 0 & -2 & 2 & 0 & 2 & -2 & 0\n",
    "    \\end{pmatrix}\n",
    "$$\n",
    "\n",
    "Now, we find the same matrix in Python.\n",
    "\n",
    "This time we use four nested for-loops."
   ]
  },
  {
   "cell_type": "code",
   "execution_count": null,
   "metadata": {},
   "outputs": [],
   "source": [
    "// matrix M\n",
    "let M = [ \n",
    "    [-1,0,1],\n",
    "    [-2,-1,2],\n",
    "    [1,2,-2]\n",
    "];\n",
    "\n",
    "// matrix N\n",
    "let N = [\n",
    "    [0,2,1],\n",
    "    [3,-1,-2],\n",
    "    [-1,1,0]\n",
    "];\n",
    "\n",
    "// MN will be a (9x9)-dimensional matrix\n",
    "// prepare it as a zero matrix\n",
    "// this helps us to easily fill it \n",
    "let MN=[];\n",
    "for (let i = 0; i < 9; i++) {\n",
    "    MN.push([]);\n",
    "    for (let j = 0; j < 9; j++) {\n",
    "        MN[i].push(0);\n",
    "    }\n",
    "}\n",
    "\n",
    "for (let i = 0; i < 3; i++) { // row of M\n",
    "    for (let j = 0; j < 3; j++) { // column of M\n",
    "        for (let k = 0; k < 3; k++) { // row of N\n",
    "            for (let l = 0; l < 3; l++) { // column of N\n",
    "                MN[i*3+k][3*j+l] = M[i][j] * N[k][l];\n",
    "            }\n",
    "        }\n",
    "    }\n",
    "}\n",
    "\n",
    "console.log(\"M-tensor-N is\");\n",
    "for (let i = 0; i < 9; i++) {\n",
    "    console.log(MN[i]);\n",
    "}"
   ]
  },
  {
   "cell_type": "markdown",
   "metadata": {},
   "source": [
    "We find $ N \\otimes M $ in Python.\n",
    "\n",
    "We use the same code by interchanging $ N $ and $ M $."
   ]
  },
  {
   "cell_type": "code",
   "execution_count": null,
   "metadata": {},
   "outputs": [],
   "source": [
    "// matrices M and N were defined above\n",
    "\n",
    "// matrix NM will be prepared as a (9x9)-dimensional zero matrix\n",
    "let NM=[];\n",
    "for (let i = 0; i < 9; i++) {\n",
    "    NM.push([]);\n",
    "    for (let j = 0; j < 9; j++) {\n",
    "        NM[i].push(0);\n",
    "    }\n",
    "}\n",
    "\n",
    "for (let i = 0; i < 3; i++) { // row of N\n",
    "    for (let j = 0; j < 3; j++) { // column of N\n",
    "        for (let k = 0; k < 3; k++) { // row of M\n",
    "            for (let l = 0; l < 3; l++) { // column of M\n",
    "                NM[i*3+k][3*j+l] = N[i][j] * M[k][l];\n",
    "            }\n",
    "        }\n",
    "    }\n",
    "}\n",
    "\n",
    "console.log(\"N-tensor-M is\");\n",
    "for (let i = 0; i < 9; i++) {\n",
    "    console.log(NM[i]);\n",
    "}"
   ]
  },
  {
   "cell_type": "markdown",
   "metadata": {},
   "source": [
    "<h3> Task 2 </h3>\n",
    "\n",
    "Find $ A \\otimes B $ for the given matrices\n",
    "$\n",
    "    A = \\begin{pmatrix}-1 & 0 & 1 \\\\ -2 & -1 & 2\\end{pmatrix} ~~\\mbox{and}~~ \n",
    "    B = \\begin{pmatrix}0 & 2 \\\\ 3 & -1 \\\\ -1 & 1 \\end{pmatrix}.\n",
    "$\n",
    "\n",
    "You can use the code in your (our) solution for Task 2.\n",
    "\n",
    "But please be careful with the indices and range values, and how they are interchanged (!)"
   ]
  },
  {
   "cell_type": "code",
   "execution_count": null,
   "metadata": {},
   "outputs": [],
   "source": [
    "//\n",
    "// your solution is here\n",
    "//\n"
   ]
  },
  {
   "cell_type": "markdown",
   "metadata": {},
   "source": [
    "<a href=\"Math32_Tensor_Product_Solutions.ipynb#task2\">click for our solution</a>"
   ]
  },
  {
   "cell_type": "markdown",
   "metadata": {},
   "source": [
    "<h3> Task 3 </h3>\n",
    "\n",
    "Find $ B \\otimes A $ for the given matrices\n",
    "$\n",
    "    A = \\begin{pmatrix}-1 & 0 & 1 \\\\ -2 & -1 & 2\\end{pmatrix} ~~\\mbox{and}~~ \n",
    "    B = \\begin{pmatrix}0 & 2 \\\\ 3 & -1 \\\\ -1 & 1 \\end{pmatrix}.\n",
    "$\n",
    "\n",
    "You can use the code in your (our) solution for Task 2.\n",
    "\n",
    "But please be careful with the indices and range values, and how they are interchanged (!)"
   ]
  },
  {
   "cell_type": "code",
   "execution_count": null,
   "metadata": {},
   "outputs": [],
   "source": [
    "//\n",
    "// your solution is here\n",
    "//\n"
   ]
  },
  {
   "cell_type": "markdown",
   "metadata": {},
   "source": [
    "<a href=\"Math32_Tensor_Product_Solutions.ipynb#task3\">click for our solution</a>"
   ]
  }
 ],
 "metadata": {
  "kernelspec": {
   "display_name": "Python 3",
   "language": "python",
   "name": "python3"
  },
  "language_info": {
   "codemirror_mode": {
    "name": "javascript",
    "version": 3
   },
   "file_extension": ".js",
   "mimetype": "text/javascript",
   "name": "javascript",
   "nbconvert_exporter": "javascript",
   "pygments_lexer": "javascript",
   "version": "ES6"
  }
 },
 "nbformat": 4,
 "nbformat_minor": 2
}