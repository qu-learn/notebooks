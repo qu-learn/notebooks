{
 "cells": [
  {
   "cell_type": "markdown",
   "metadata": {},
   "source": [
    "<font style=\"font-size:28px;\" align=\"left\"><b>Exercises for Basic Math</b></font>\n",
    "<br>\n",
    "_prepared by Abuzer Yakaryilmaz_\n",
    "<br><br>"
   ]
  },
  {
   "cell_type": "markdown",
   "metadata": {},
   "source": [
    "Run the following cell to open the exercises.\n",
    "\n",
    "<i><a href=\"https://www.mathjax.org\" target=\"_blank\">MathJax</a> is used to express mathematical expressions and it requires internet connection.</i>\n",
    "<hr>"
   ]
  },
  {
   "cell_type": "code",
   "execution_count": null,
   "metadata": {
    "scrolled": true
   },
   "outputs": [],
   "source": [
    "// import os, webbrowser\n",
    "// webbrowser.open(os.path.abspath(\"Exercises_Basic_Math.html\"))"
   ]
  }
 ],
 "metadata": {
  "kernelspec": {
   "display_name": "Python 3",
   "language": "python",
   "name": "python3"
  },
  "language_info": {
   "codemirror_mode": {
    "name": "javascript",
    "version": 3
   },
   "file_extension": ".js",
   "mimetype": "text/javascript",
   "name": "javascript",
   "nbconvert_exporter": "javascript",
   "pygments_lexer": "javascript",
   "version": "ES6"
  }
 },
 "nbformat": 4,
 "nbformat_minor": 2
}