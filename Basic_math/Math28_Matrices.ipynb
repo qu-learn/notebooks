{
 "cells": [
  {
   "cell_type": "markdown",
   "metadata": {},
   "source": [
    "<font style=\"font-size:28px;\" align=\"left\"><b>Matrices: Two Dimensional Lists </b></font>\n",
    "<br>\n",
    "_prepared by Abuzer Yakaryilmaz_\n",
    "<br><br>"
   ]
  },
  {
   "cell_type": "markdown",
   "metadata": {},
   "source": [
    "A matrix is a list of vectors where each vector has the same dimension.\n",
    "\n",
    "Here is an example matrix formed by 4 row vectors with dimension 5:\n",
    "\n",
    "$$\n",
    "    M = \\begin{pmatrix}8 & 0 & -1 & 0 & 2 \\\\ -2 & -3 & 1 & 1 & 4 \\\\ 0 & 0 & 1 & -7 & 1 \\\\ 1 & 4 & -2 & 5 & 9\\end{pmatrix}.\n",
    "$$\n",
    "\n",
    "We can also say that $M$ is formed by 5 column vectors with dimension 4.\n",
    "\n",
    "$M$ is called an $ (4 \\times 5) $-dimensional matrix. ($4 \\times 5$: \"four times five\") \n",
    "\n",
    "We can represent $M$ as a two dimensional list in Python.    "
   ]
  },
  {
   "cell_type": "code",
   "execution_count": null,
   "metadata": {},
   "outputs": [],
   "source": [
    "// we may break lines when defining our list\n",
    "let M = [ \n",
    "    [8 , 0 , -1 , 0 , 2], \n",
    "    [-2 , -3 , 1 , 1 , 4], \n",
    "    [0 , 0 , 1 , -7 , 1],\n",
    "    [1 , 4 , -2 , 5 , 9]\n",
    "] ; \n",
    "\n",
    "// let's print matrix M\n",
    "console.log(M);"
   ]
  },
  {
   "cell_type": "code",
   "execution_count": null,
   "metadata": {},
   "outputs": [],
   "source": [
    "// let's print M in matrix form, row by row\n",
    "\n",
    "for (let i = 0; i < 4; i++) { // there are 4 rows\n",
    "    console.log(M[i]);\n",
    "}"
   ]
  },
  {
   "cell_type": "markdown",
   "metadata": {},
   "source": [
    "Remark that, by definition, the rows and columns of matrices are indexed starting from 1.\n",
    "\n",
    "The $ (i,j) $-th entry of $ M $ refers to the entry in $ i $-th row and $ j $-th column.\n",
    "\n",
    "(It is also denoted as $ M[i,j] $, $ M(i,j) $, or $ M_{ij} $.)\n",
    "\n",
    "On the other hand, in Python, the indices start from zero.\n",
    "\n",
    "So, when we define a list for a matrix or vector in Python, the value of an index in Python is one less than the value of the original index.\n",
    "\n",
    "Let's see this with the following example."
   ]
  },
  {
   "cell_type": "code",
   "execution_count": null,
   "metadata": {},
   "outputs": [],
   "source": [
    "let M = [ \n",
    "    [8 , 0 , -1 , 0 , 2], \n",
    "    [-2 , -3 , 1 , 1 , 4], \n",
    "    [0 , 0 , 1 , -7 , 1],\n",
    "    [1 , 4 , -2 , 5 , 9]\n",
    "] ; \n",
    "\n",
    "// print the element of M in the 1st row and the 1st column.\n",
    "console.log(M[0][0]);\n",
    "\n",
    "// print the element of M in the 3rd row and the 4th column.\n",
    "console.log(M[2][3]);\n",
    "\n",
    "// print the element of M in the 4th row and the 5th column.\n",
    "console.log(M[3][4]);"
   ]
  },
  {
   "cell_type": "markdown",
   "metadata": {},
   "source": [
    "<h3> Multiplying a matrix with a number </h3>\n",
    "\n",
    "When matrix $ M $ is multiplied by $ -2 $, each entry is multiplied by $ -2 $."
   ]
  },
  {
   "cell_type": "code",
   "execution_count": null,
   "metadata": {},
   "outputs": [],
   "source": [
    "// we use double nested for-loops\n",
    "\n",
    "let N =[]; // the result matrix\n",
    "\n",
    "for (let i = 0; i < 4; i++) { // for each row\n",
    "    N.push([]); // create an empty sub-list for each row in the result matrix\n",
    "    for (let j = 0; j < 5; j++) { // in row (i+1), we do the following for each column\n",
    "        N[i].push(M[i][j]*-2); // we add new elements into the i-th sub-list\n",
    "    }\n",
    "}\n",
    "     \n",
    "// print M and N, and see the results\n",
    "console.log(\"I am M:\");\n",
    "for (let i = 0; i < 4; i++) {\n",
    "    console.log(M[i]);\n",
    "}\n",
    "\n",
    "console.log();\n",
    "\n",
    "console.log(\"I am N:\");\n",
    "for (let i = 0; i < 4; i++) {\n",
    "    console.log(N[i]);\n",
    "}"
   ]
  },
  {
   "cell_type": "markdown",
   "metadata": {},
   "source": [
    "We write down the matrix $ N= -2 M $:\n",
    "\n",
    "$$\n",
    "  N= -2 M = \\begin{pmatrix}-16 & 0 & 2 & 0 & -4 \\\\ 4 & 6 & -2 & -2 & -8 \\\\ 0 & 0 & -2 & 14 & -2 \\\\ -2 & -8 & 4 & -10 & -18\\end{pmatrix}.\n",
    "$$"
   ]
  },
  {
   "cell_type": "markdown",
   "metadata": {},
   "source": [
    "<h3> The summation of matrices</h3>\n",
    "\n",
    "If $ M $ and $ N $ are matrices with the same dimensions, then $ M+N $ is also a matrix with the same dimensions.\n",
    "\n",
    "The summation of two matrices is similar to the summation of two vectors. \n",
    "\n",
    "If $ K = M +N $, then $ K_{ij} = M_{ij} + N_{ij} $ for every pair of $ (i,j) $.\n",
    "\n",
    "Let's find $ K $ by using python. "
   ]
  },
  {
   "cell_type": "code",
   "execution_count": null,
   "metadata": {},
   "outputs": [],
   "source": [
    "// create an empty list for the result matrix\n",
    "let K=[];\n",
    "\n",
    "for (let i = 0; i < M.length; i++) { // len(M) return the number of rows in M\n",
    "    K.push([]); // we create a new row for K\n",
    "    for (let j = 0; j < M[0].length; j++) { // len(M[0]) returns the number of columns in M\n",
    "        K[i].push(M[i][j]+N[i][j]); // we add new elements into the i-th sublist/rows\n",
    "    }\n",
    "}\n",
    "\n",
    "// print each matrix in a single line\n",
    "console.log(\"M=\",M);\n",
    "console.log(\"N=\",N);\n",
    "console.log(\"K=\",K);"
   ]
  },
  {
   "cell_type": "markdown",
   "metadata": {},
   "source": [
    "<b> Observation:</b>\n",
    "\n",
    "$ K = N +M  $. We defined $ N $ as $ -2 M $. \n",
    "\n",
    "Thus, $ K = N+M = -2M + M = -M $.\n",
    "\n",
    "We can see that $ K = -M $ by looking at the outcomes of our program."
   ]
  },
  {
   "cell_type": "markdown",
   "metadata": {},
   "source": [
    "<h3> Task 1 </h3>\n",
    "\n",
    "Randomly create $ (3 \\times 4) $-dimensional matrices $ A $ and $ B $. \n",
    "\n",
    "The entries can be picked from the list $ \\{-5,\\ldots,5\\} $.\n",
    "\n",
    "Print the entries of both matrices.\n",
    "\n",
    "Find matrix $ C = 3A - 2B $, and print its entries. (<i>Note that $ 3A - 2B = 3A + (-2B) $</i>.)\n",
    "\n",
    "Verify the correctness your outcomes."
   ]
  },
  {
   "cell_type": "code",
   "execution_count": null,
   "metadata": {},
   "outputs": [],
   "source": [
    "// from random import randrange\n",
    "//\n",
    "// your solution is here\n",
    "//\n"
   ]
  },
  {
   "cell_type": "markdown",
   "metadata": {},
   "source": [
    "<a href=\"Math28_Matrices_Solutions.ipynb#task1\">click for our solution</a>"
   ]
  },
  {
   "cell_type": "markdown",
   "metadata": {},
   "source": [
    "<h3> Transpose of a matrix</h3>\n",
    "\n",
    "The transpose of a matrix is obtained by interchanging rows and columns. \n",
    "\n",
    "For example, the second row becomes the new second column, and third column becomes the new third row.\n",
    "\n",
    "The transpose of a matrix $ M $ is denoted by $ M^T $.\n",
    "\n",
    "Here we give two examples.\n",
    "\n",
    "$$\n",
    "    M = \\begin{pmatrix}-2 & 3 & 0 & 4\\\\ -1 & 1 & 5 & 9\\end{pmatrix} ~~~~~ \\Rightarrow ~~~~~ M^T=\\begin{pmatrix}-2 & -1 \\\\ 3 & 1 \\\\ 0 & 5 \\\\ 4 & 9\\end{pmatrix}  ~~~~~~~~ \\mbox{ and } ~~~~~~~~\n",
    "    N = \\begin{pmatrix}1 & 2 & 3 \\\\ 4 & 5 & 6 \\\\ 7 & 8 & 9\\end{pmatrix} ~~~~~ \\Rightarrow ~~~~~ N^T = \\begin{pmatrix}1 & 4 & 7 \\\\ 2 & 5 & 8 \\\\ 3 & 6 & 9\\end{pmatrix}.\n",
    "$$\n",
    "\n",
    "Shortly, $ M_{ij} = M^T_{ji} $ and $ N_{ij} = N^T_{ji} $. (The indices are interchanged.)"
   ]
  },
  {
   "cell_type": "markdown",
   "metadata": {},
   "source": [
    "<h3> Task 2 </h3>\n",
    "\n",
    "Find $ M^T $ and $ N^T $ by using python.\n",
    "\n",
    "Print all matrices and verify the correctness of your outcome."
   ]
  },
  {
   "cell_type": "code",
   "execution_count": null,
   "metadata": {},
   "outputs": [],
   "source": [
    "let M = [\n",
    "    [-2,3,0,4],\n",
    "    [-1,1,5,9]      \n",
    "];\n",
    "let N =[\n",
    "    [1,2,3],\n",
    "    [4,5,6],\n",
    "    [7,8,9]\n",
    "];\n",
    "//\n",
    "// your solution is here\n",
    "//\n"
   ]
  },
  {
   "cell_type": "markdown",
   "metadata": {},
   "source": [
    "<a href=\"Math28_Matrices_Solutions.ipynb#task2\">click for our solution</a>"
   ]
  },
  {
   "cell_type": "markdown",
   "metadata": {},
   "source": [
    "<h3> Multiplication of a matrix with a vector </h3>\n",
    "\n",
    "We define a matrix $ M $ and a column vector $ v $:\n",
    "\n",
    "$$\n",
    "    M = \\begin{pmatrix}-1 & 0 & 1 \\\\ -2 & -3 & 4 \\\\ 1 & 5 & 6\\end{pmatrix} ~~~~~~\\mbox{and}~~~~~~ v = \\begin{pmatrix}1 \\\\ -3 \\\\ 2\\end{pmatrix}.\n",
    "$$\n",
    "\n",
    "The multiplication of $ M v $ is a new vector $ u $ shown as $ u = M v $:\n",
    "<ul>\n",
    "    <li> The first entry of $u $ is the dot product of the first row of $ M $ and $ v $.</li>\n",
    "    <li> The second entry of $ u $ is the dot product of the second row of $M$ and $ v $.</li>\n",
    "    <li> The third entry of $ u $ is the dot product of the third row of $M$ and $v$. </li>\n",
    "</ul>\n",
    "\n",
    "We do the calculations by using python."
   ]
  },
  {
   "cell_type": "code",
   "execution_count": null,
   "metadata": {},
   "outputs": [],
   "source": [
    "// matrix M\n",
    "let M_mult = [\n",
    "    [-1,0,1],\n",
    "    [-2,-3,4],\n",
    "    [1,5,6]\n",
    "];\n",
    "\n",
    "// vector v\n",
    "let v_mult = [1,-3,2];\n",
    "\n",
    "// the result vector u\n",
    "let u_mult = [];\n",
    "\n",
    "// for each row, we do an inner product\n",
    "for (let i = 0; i < 3; i++) {\n",
    "    // inner product for one row is initiated\n",
    "    let inner_result = 0; // this variable keeps the summation of the pairwise multiplications\n",
    "    for (let j = 0; j < 3; j++) { // the elements in the i-th row\n",
    "        inner_result = inner_result + M_mult[i][j] * v_mult[j];\n",
    "    }\n",
    "    // inner product for one row is completed\n",
    "    u_mult.push(inner_result);\n",
    "}\n",
    "\n",
    "console.log(\"M is\");\n",
    "for (let i = 0; i < M_mult.length; i++) {\n",
    "    console.log(M_mult[i]);\n",
    "}\n",
    "console.log();\n",
    "console.log(\"v=\",v_mult);\n",
    "console.log();\n",
    "console.log(\"u=\",u_mult);"
   ]
  },
  {
   "cell_type": "markdown",
   "metadata": {},
   "source": [
    "We check the calculations:\n",
    "\n",
    "$$\n",
    " \\mbox{First row:}~~~~  \\begin{pmatrix}-1 \\\\ 0 \\\\ 1\\end{pmatrix} \\cdot \\begin{pmatrix}1 \\\\ -3 \\\\ 2\\end{pmatrix}  = (-1)\\cdot 1 + 0 \\cdot (-3) + 1 \\cdot 2 = -1 + 0 + 2 = 1.\n",
    "$$\n",
    "$$\n",
    " \\mbox{Second row:}~~~~  \\begin{pmatrix}-2 \\\\ -3 \\\\ 4\\end{pmatrix} \\cdot\\begin{pmatrix}1 \\\\ -3 \\\\ 2\\end{pmatrix}  = (-2)\\cdot 1 + (-3) \\cdot (-3) + 4 \\cdot 2 = -2 + 9 + 8 = 15.\n",
    "$$\n",
    "$$\n",
    " \\mbox{Third row:}~~~~  \\begin{pmatrix}1 \\\\ 5 \\\\ 6\\end{pmatrix} \\cdot \\begin{pmatrix}1 \\\\ -3 \\\\ 2\\end{pmatrix}  = 1\\cdot 1 + 5 \\cdot (-3) + 6 \\cdot 2 = 1 - 15 + 12 = -2.\n",
    "$$\n",
    "\n",
    "Then,\n",
    "$$\n",
    "    u = \\begin{pmatrix}1 \\\\ 15 \\\\ -2 \\end{pmatrix}.\n",
    "$$"
   ]
  },
  {
   "cell_type": "markdown",
   "metadata": {},
   "source": [
    "<b>Observations:</b> \n",
    "<ul>\n",
    "    <li> The dimension of the row of $ M $ is the same as the dimension of $ v $. Otherwise, the inner product is not defined.</li>\n",
    "    <li> The dimension of the result vector is the number of rows in $ M $, because we have the dot product for each row of $ M $</li>\n",
    "</ul>"
   ]
  },
  {
   "cell_type": "markdown",
   "metadata": {},
   "source": [
    "<h3> Task 3 </h3>\n",
    "\n",
    "Find $ u' = N u $ by using python for the following matrix $ N $ and column vector $ u $:\n",
    "\n",
    "$$\n",
    "    N = \\begin{pmatrix}-1 & 1 & 2 \\\\ 0 & -2 & -3 \\\\ 3 & 2 & 5 \\\\ 0 & 2 & -2\\end{pmatrix} ~~~~~~\\mbox{and}~~~~~~ u = \\begin{pmatrix}2 \\\\ -1 \\\\ 3\\end{pmatrix}.\n",
    "$$"
   ]
  },
  {
   "cell_type": "code",
   "execution_count": null,
   "metadata": {},
   "outputs": [],
   "source": [
    "//\n",
    "// your solution is here\n",
    "//\n"
   ]
  },
  {
   "cell_type": "markdown",
   "metadata": {},
   "source": [
    "<a href=\"Math28_Matrices_Solutions.ipynb#task3\">click for our solution</a>"
   ]
  },
  {
   "cell_type": "markdown",
   "metadata": {},
   "source": [
    "<h3> Multiplication of two matrices </h3>\n",
    "\n",
    "This is just the generalization of the procedure given above.\n",
    "\n",
    "We find matrix $ K = M N $ for given matrices\n",
    "$\n",
    "    M = \\begin{pmatrix}-1 & 0 & 1 \\\\ -2 & -1 & 2 \\\\ 1 & 2 & -2\\end{pmatrix} ~~\\mbox{and}~~ \n",
    "    N = \\begin{pmatrix}0 & 2 & 1 \\\\ 3 & -1 & -2 \\\\ -1 & 1 & 0\\end{pmatrix}.\n",
    "$"
   ]
  },
  {
   "cell_type": "markdown",
   "metadata": {},
   "source": [
    "Remark that the matrix $ N $ has three columns: $ v_1 = \\begin{pmatrix}0 \\\\ 3 \\\\ -1\\end{pmatrix} $, $ v_2 = \\begin{pmatrix}2 \\\\ -1 \\\\ 1\\end{pmatrix} $, and $ v_3 = \\begin{pmatrix}1 \\\\ -2 \\\\ 0\\end{pmatrix} $.\n",
    "\n",
    "We know how to calculate $ v_1' = M  v_1 $. \n",
    "\n",
    "Similarly, we can calculate $ v_2' = M  v_2 $ and $ v_3' = M  v_3 $. \n",
    "\n",
    "It may have already been guessed that these new column vectors ($v_1'$, $v_2'$, and $v_3'$) are the columns of the result matrix $ K $. \n",
    "\n",
    "The dot product of the i-th row of $ M $ and $ j $-th column of $ N $ gives the $(i,j)$-th entry of $ K $."
   ]
  },
  {
   "cell_type": "markdown",
   "metadata": {},
   "source": [
    "<h3> Task 4 </h3>\n",
    "\n",
    "Find matrix $ K $.\n",
    " \n",
    "This is a challenging task. You may use triple nested for-loops. \n",
    "\n",
    "You may also consider to write a function taking two lists and returning their dot product."
   ]
  },
  {
   "cell_type": "code",
   "execution_count": null,
   "metadata": {},
   "outputs": [],
   "source": [
    "// matrix M\n",
    "let M_mult_2 = [\n",
    "    [-1,0,1],\n",
    "    [-2,-1,2],\n",
    "    [1,2,-2]\n",
    "];\n",
    "\n",
    "// matrix N\n",
    "let N_mult_2 = [\n",
    "    [0,2,1],\n",
    "    [3,-1,-2],\n",
    "    [-1,1,0]\n",
    "];\n",
    "\n",
    "// matrix K\n",
    "let K = [];\n",
    "\n",
    "//\n",
    "// your solution is here\n",
    "//\n"
   ]
  },
  {
   "cell_type": "markdown",
   "metadata": {},
   "source": [
    "<a href=\"Math28_Matrices_Solutions.ipynb#task4\">click for our solution</a>"
   ]
  },
  {
   "cell_type": "markdown",
   "metadata": {},
   "source": [
    "<h3> Is $ A  B = B  A $? </h3>\n",
    "\n",
    "It is a well-known fact that the order of numbers does not matter in multiplication.\n",
    "\n",
    "For example, $ (-3) \\cdot 4 = 4 \\cdot (-3) $.\n",
    "\n",
    "Is it also true for matrices? For any given two matrices $ A $ and $ B $, is $ A  B = B  A $?\n",
    "\n",
    "There are some examples of $A$ and $B$ such that $ A B = B  A $.\n",
    "\n",
    "But this is not true in general, and so this statement is false. \n",
    "\n",
    "We can falsify this statement by finding a counter-example.\n",
    "\n",
    "We write a program using a probabilistic strategy. \n",
    "\n",
    "The idea is as follows: Randomly find two example matrices $ A $ and $ B $ such that $ AB \\neq BA $.\n",
    "\n",
    "Remark that if  $ AB = BA $, then $ AB - BA $ is a zero matrix."
   ]
  },
  {
   "cell_type": "markdown",
   "metadata": {},
   "source": [
    "<h3> Task 5 </h3>\n",
    "\n",
    "Randomly define two $ (2 \\times 2) $-dimensional matrices $A$ and $ B $. \n",
    "\n",
    "Then, find $ C= AB-BA $. If $ C $ is not a zero matrix, then we are done.\n",
    "\n",
    "<i>Remark: With some chances, we may find a pair of $ (A,B) $ such that $ AB = BA $. \n",
    "    \n",
    "In this case, repeat your experiment. </i>"
   ]
  },
  {
   "cell_type": "code",
   "execution_count": null,
   "metadata": {},
   "outputs": [],
   "source": [
    "//\n",
    "// your solution is here\n",
    "//\n"
   ]
  },
  {
   "cell_type": "markdown",
   "metadata": {},
   "source": [
    "<a href=\"Math28_Matrices_Solutions.ipynb#task5\">click for our solution</a>"
   ]
  }
 ],
 "metadata": {
  "kernelspec": {
   "display_name": "Python 3",
   "language": "python",
   "name": "python3"
  },
  "language_info": {
   "codemirror_mode": {
    "name": "javascript",
    "version": 3
   },
   "file_extension": ".js",
   "mimetype": "text/javascript",
   "name": "javascript",
   "nbconvert_exporter": "javascript",
   "pygments_lexer": "javascript",
   "version": "ES6"
  }
 },
 "nbformat": 4,
 "nbformat_minor": 2
}