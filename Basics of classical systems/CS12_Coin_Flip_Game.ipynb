{
 "cells": [
  {
   "cell_type": "markdown",
   "metadata": {},
   "source": [
    "<font style=\"font-size:28px;\" align=\"left\"><b> A Game with two biased coins  </b></font>\n",
    "<br>\n",
    "_prepared by Abuzer Yakaryilmaz_\n",
    "<br><br>\n",
    "[<img src=\"../qworld/images/watch_lecture.jpg\" align=\"left\">](https://youtu.be/k0OJvv7AAgU)\n",
    "<br><br><br>"
   ]
  },
  {
   "cell_type": "markdown",
   "metadata": {},
   "source": [
    "## Probabilistic bits\n",
    "\n",
    "We start with a short introduction to the probabilistic bits to trace the details of the game below.\n",
    "\n",
    "Suppose that we have a biased coin landing on heads with probability $ 0.3 $, and it is tossed once but we do not see the outcome.\n",
    "\n",
    "Even though it lands on either heads or tails, our information about the outcome is probabilistic: It is heads with probability $ 0.3 $ and tails with probablity $ 0.7 $. \n",
    "\n",
    "If we consider this coin as a system with two states (heads and tails: respectively, states 0 and 1), then we can say that after one iteration it is in states 0 and 1 with probabilities 0.3 and 0.7, respectively.\n",
    "\n",
    "In general, a probabilistic bit is in states 0 and 1 with probabilities $ p $ and $ 1-p $, where $ p $ is a number between 0 and 1. Remark that if $  p=1 $ or $ p=0 $, then the bit becomes deterministic.\n",
    "\n",
    "If the above biased coin is tossed once more, the probabilisties of the getting heads and tails (or being in the states in 0 and 1) will still be the same. In the following game, by using two biased-coins, we will be able to have different probabilities for the states 0 and 1. This game is our first step to define a probabilitic operator for probabilistic bits."
   ]
  },
  {
   "cell_type": "markdown",
   "metadata": {},
   "source": [
    "## The game"
   ]
  },
  {
   "cell_type": "markdown",
   "metadata": {},
   "source": [
    "Our friend Asja has one euro and one cent. \n",
    "\n",
    "Both coins are biased, and the probabilities of getting heads and tails are as follows:\n",
    "\n",
    "- one euro: heads with probability $ 0.6 $ and tails with probability $ 0.4 $.\n",
    "- one cent: heads with probability $ 0.3 $ and tails with probability $ 0.7 $.\n",
    "\n",
    "Asja flips her coins based on the following <b>protocol</b>: \n",
    "\n",
    "1. she starts with flipping one euro[*];\n",
    "2. whenever she gets heads, she flips one euro in the next round; and,\n",
    "3. whenever she gets tails, she flips one cent in the next round.\n",
    "\n",
    "By using a single bit, we summarize all transitions of this game as follows:\n",
    "\n",
    "$GameCoins = \\begin{array}{c|cc} \\hookleftarrow & \\mathbf{Head} & \\mathbf{Tail} \\\\ \\hline \\mathbf{Head} & 0.6 & 0.3\\\\  \\mathbf{Tail} & 0.4 & 0.7  \\end{array} = \\begin{array}{c|cc} \\hookleftarrow & \\mathbf{0} & \\mathbf{1} \\\\ \\hline \\mathbf{0} & 0.6 & 0.3 \\\\  \\mathbf{1} & 0.4 & 0.7  \\end{array}$\n",
    "\n",
    "[*] We should fix an initial condition. Otherwise, Asja cannot pick any of the coins at the beginning of game."
   ]
  },
  {
   "cell_type": "markdown",
   "metadata": {},
   "source": [
    "### Task 1: Convince yourself\n",
    "\n",
    "Convince yourself about the correctness of transitions given in the table.\n",
    "\n",
    "_Remark that there is no difference between getting heads from the one euro coin or from the one cent coin.\n",
    "    \n",
    "Therefore, one bit is enough to represent all transitions._"
   ]
  },
  {
   "cell_type": "markdown",
   "metadata": {},
   "source": [
    "### Tracing Asja's three coin tosses\n",
    "\n",
    "Suppose that Asja <b>secretly</b> tosses her coins based on the defined protocol.\n",
    "\n",
    "By using python, we can calculate the probabilities of Asja seeing heads and tails after three coin tosses.\n",
    "\n",
    "_<b>Remark:</b> In the previous tasks of [Coin Flipping](CS08_Coin_Flip.ipynb), we know the ideal ratios, and we experiment many coin tosses and then expect to observe the results close to the ideal ratios.\n",
    "    \n",
    "Here we calculate the exact probabilities (the ideal ratio) by using python. (We will not do the experiments as in the previous tasks.)_\n",
    "\n",
    "We present our solution step by step."
   ]
  },
  {
   "cell_type": "code",
   "execution_count": null,
   "metadata": {},
   "outputs": [],
   "source": [
    "#\n",
    "# OUR SOLUTION\n",
    "#\n",
    "\n",
    "# initial condition:\n",
    "# Asja will start with one euro,\n",
    "#    and so, we assume that the probability of having head is 1 at the beginning.\n",
    "prob_head = 1\n",
    "prob_tail = 0\n",
    "\n",
    "\n",
    "#\n",
    "# first coin-flip\n",
    "#\n",
    "\n",
    "# the new probability of head is calculated by using the first row of table\n",
    "new_prob_head = prob_head * 0.6 + prob_tail * 0.3\n",
    "\n",
    "# the new probability of tail is calculated by using the second row of the table\n",
    "new_prob_tail = prob_head * 0.4 + prob_tail * 0.7\n",
    "\n",
    "# update the probabilities for the second round\n",
    "prob_head = new_prob_head\n",
    "prob_tail = new_prob_tail\n",
    "\n",
    "#\n",
    "# second coin-flip\n",
    "#\n",
    "# we do the same calculations\n",
    "\n",
    "new_prob_head = prob_head * 0.6 + prob_tail * 0.3\n",
    "new_prob_tail = prob_head * 0.4 + prob_tail * 0.7\n",
    "\n",
    "prob_head = new_prob_head\n",
    "prob_tail = new_prob_tail\n",
    "\n",
    "#\n",
    "# third coin-flip\n",
    "#\n",
    "# we do the same calculations\n",
    "\n",
    "new_prob_head = prob_head * 0.6 + prob_tail * 0.3\n",
    "new_prob_tail = prob_head * 0.4 + prob_tail * 0.7\n",
    "\n",
    "prob_head = new_prob_head\n",
    "prob_tail = new_prob_tail\n",
    "\n",
    "# print prob_head and prob_tail\n",
    "print(\"the probability of getting head after 3 coin tosses is\",prob_head)\n",
    "print(\"the probability of getting tail after 3 coin tosses is\",prob_tail)"
   ]
  },
  {
   "cell_type": "markdown",
   "metadata": {},
   "source": [
    "### Task 2: Tracing ten biased coin tosses\n",
    "\n",
    "By using python, calculate the probabilities of Asja seeing heads and tails after 10 coin tosses.\n",
    "\n",
    "$GameCoins = \\begin{array}{c|cc} \\hookleftarrow & \\mathbf{Head} & \\mathbf{Tail} \\\\ \\hline \\mathbf{Head} & 0.6 & 0.3\\\\  \\mathbf{Tail} & 0.4 & 0.7  \\end{array} = \\begin{array}{c|cc} \\hookleftarrow & \\mathbf{0} & \\mathbf{1} \\\\ \\hline \\mathbf{0} & 0.6 & 0.3 \\\\  \\mathbf{1} & 0.4 & 0.7  \\end{array}$\n",
    "\n",
    "Use a loop in your solution."
   ]
  },
  {
   "cell_type": "code",
   "execution_count": null,
   "metadata": {},
   "outputs": [],
   "source": [
    "#\n",
    "# your solution is here\n",
    "#"
   ]
  },
  {
   "cell_type": "markdown",
   "metadata": {},
   "source": [
    "<a href=\"CS12_Coin_Flip_Game_Solutions.ipynb#task2\">click for our solution</a>"
   ]
  },
  {
   "cell_type": "markdown",
   "metadata": {},
   "source": [
    "### Task 3\n",
    "\n",
    "Repeat Task 2 for 20, 30, and 50 coin tosses."
   ]
  },
  {
   "cell_type": "code",
   "execution_count": null,
   "metadata": {},
   "outputs": [],
   "source": [
    "#\n",
    "# your solution is here\n",
    "#"
   ]
  },
  {
   "cell_type": "markdown",
   "metadata": {},
   "source": [
    "<a href=\"CS12_Coin_Flip_Game_Solutions.ipynb#task3\">click for our solution</a>"
   ]
  },
  {
   "cell_type": "markdown",
   "metadata": {},
   "source": [
    "### Task 4\n",
    "\n",
    "Repeat Task 2 for 10, 20, and 50 coin tosses by picking different initial conditions, e.g., \n",
    "    \n",
    "    prob_head = prob_tail = 1/2\n",
    "or\n",
    "    \n",
    "    prob_head = 0 \n",
    "    prob_tail = 1"
   ]
  },
  {
   "cell_type": "code",
   "execution_count": null,
   "metadata": {},
   "outputs": [],
   "source": [
    "#\n",
    "# your solution is here\n",
    "#"
   ]
  },
  {
   "cell_type": "markdown",
   "metadata": {},
   "source": [
    "<a href=\"CS12_Coin_Flip_Game_Solutions.ipynb#task4\">click for our solution</a>"
   ]
  },
  {
   "cell_type": "markdown",
   "metadata": {},
   "source": [
    "<hr>"
   ]
  },
  {
   "cell_type": "markdown",
   "metadata": {},
   "source": [
    "### Extra: Arbitrary transitions for GameCoins\n",
    "\n",
    "By changing the bias of each Asja's coin, we can define arbitrary GameCoins.\n",
    "\n",
    "If $ a $ is the probability of getting heads for one euro and $ b $ is the probability of getting heads for one cent, then we have the following transitions:\n",
    "\n",
    "$GameCoins(a,b) = \\begin{array}{c|cc} \\hookleftarrow & \\mathbf{Head} & \\mathbf{Tail} \\\\ \\hline \\mathbf{Head} & a & b\\\\  \\mathbf{Tail} & 1-a & 1-b  \\end{array} = \\begin{array}{c|cc} \\hookleftarrow & \\mathbf{0} & \\mathbf{1} \\\\ \\hline \\mathbf{0} & a & b \\\\  \\mathbf{1} & 1-a & 1-b  \\end{array}$"
   ]
  },
  {
   "cell_type": "markdown",
   "metadata": {},
   "source": [
    "### Task 5\n",
    "\n",
    "Observe that if $ a=1 $ and $ b = 0 $, then it is Identity operator, i.e., the initial condition will stay as it is.\n",
    "\n",
    "If $ a=0 $ and $ b=1 $, then it is NOT operator. NOT operator swaps the probabilities of heads and tails in each step. If the initial probabilities are not $ 0.5 $ and $ 0.5 $, then the system never converges to a fixed probabilities."
   ]
  },
  {
   "cell_type": "code",
   "execution_count": null,
   "metadata": {},
   "outputs": [],
   "source": [
    "#\n",
    "# your solution is here\n",
    "#"
   ]
  },
  {
   "cell_type": "markdown",
   "metadata": {},
   "source": [
    "### Task 6\n",
    "\n",
    "Randomly pick the values of $ a $ and $ b $, and then implement Tasks 3 and 4 for $ GameCoins(a,b) $."
   ]
  },
  {
   "cell_type": "code",
   "execution_count": null,
   "metadata": {},
   "outputs": [],
   "source": [
    "#\n",
    "# your solution is here\n",
    "#"
   ]
  },
  {
   "cell_type": "markdown",
   "metadata": {},
   "source": [
    "### Task 7\n",
    "\n",
    "10 times repeat Task 6 and observe whether the probabilities converge in each time."
   ]
  },
  {
   "cell_type": "code",
   "execution_count": null,
   "metadata": {},
   "outputs": [],
   "source": [
    "#\n",
    "# your solution is here\n",
    "#"
   ]
  },
  {
   "cell_type": "markdown",
   "metadata": {},
   "source": [
    "### Task 8\n",
    "\n",
    "We can rewrite arbitrary GameCoins as \n",
    "\n",
    "$\\begin{array}{c|cc} \\hookleftarrow & \\mathbf{Head} & \\mathbf{Tail} \\\\ \\hline \\mathbf{Head} & 1-y & x\\\\  \\mathbf{Tail} & y & 1-x  \\end{array} = \\begin{array}{c|cc} \\hookleftarrow & \\mathbf{0} & \\mathbf{1} \\\\ \\hline \\mathbf{0} & 1-y & x \\\\  \\mathbf{1} & y & 1-x  \\end{array}.$\n",
    "\n",
    "We assume that it is neither Identity nor NOT operator. Then, independent of the initial state, the system always converges to \n",
    "\n",
    "$ Pr[\\mbox{\"heads\"}] = \\dfrac{x}{x+y} $ and $ Pr[\\mbox{\"tails\"}]=\\dfrac{y}{x+y} $, \n",
    "\n",
    "which are the probabilities of getting heads and tails, respectively.\n",
    "\n",
    "Observe this fact by checking the results of Task 7."
   ]
  },
  {
   "cell_type": "code",
   "execution_count": null,
   "metadata": {},
   "outputs": [],
   "source": [
    "#\n",
    "# your solution is here\n",
    "#"
   ]
  }
 ],
 "metadata": {
  "kernelspec": {
   "display_name": "Python 3",
   "language": "python",
   "name": "python3"
  },
  "language_info": {
   "codemirror_mode": {
    "name": "ipython",
    "version": 3
   },
   "file_extension": ".py",
   "mimetype": "text/x-python",
   "name": "python",
   "nbconvert_exporter": "python",
   "pygments_lexer": "ipython3",
   "version": "3.7.1"
  }
 },
 "nbformat": 4,
 "nbformat_minor": 2
}