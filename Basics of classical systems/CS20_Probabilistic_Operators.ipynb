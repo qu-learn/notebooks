{
 "cells": [
  {
   "cell_type": "markdown",
   "metadata": {},
   "source": [
    "# Probabilistic Operators\n",
    "\n",
    "_prepared by Abuzer Yakaryilmaz_"
   ]
  },
  {
   "cell_type": "markdown",
   "metadata": {},
   "source": [
    "Remember Asja's biased coins, and her coin-flipping protocol.\n",
    "\n",
    "$\n",
    "GameCoins = \\begin{array}{c|cc} \\hookleftarrow & \\mathbf{Head} & \\mathbf{Tail} \\\\ \\hline \\mathbf{Head} & 0.6 & 0.3\\\\  \\mathbf{Tail} & 0.4 & 0.7  \\end{array} \\equiv \\begin{array}{c|cc} \\hookleftarrow & \\mathbf{0} & \\mathbf{1} \\\\ \\hline \\mathbf{0} & 0.6 & 0.3 \\\\  \\mathbf{1} & 0.4 & 0.7  \\end{array}\n",
    "$"
   ]
  },
  {
   "cell_type": "markdown",
   "metadata": {},
   "source": [
    "We trace Asja's outcomes after two coin flips.\n",
    "\n",
    "**At the beginning:**\n",
    "\n",
    "*Remember the protocol:*\n",
    "<ol> \n",
    "    <li> whenever she gets a head, she flips one euro; </li>\n",
    "    <li> whenever she gets a tail, she flips one cent; and </li>\n",
    "    <li> she starts with flipping one euro by assuming that she got head from nowhere </li>\n",
    "</ol>\n",
    "\n",
    "She starts in state 0: $ v_0 = \\begin{pmatrix}1 \\\\ 0\\end{pmatrix} $.\n",
    "\n",
    "State 0 represents Head and state 1 represents Tail."
   ]
  },
  {
   "cell_type": "markdown",
   "metadata": {},
   "source": [
    "**After first coin flip:**\n",
    "\n",
    "$  \\left( \n",
    "        GameCoins = \\begin{array}{c|cc} \\hookleftarrow & \\mathbf{Head} & \\mathbf{Tail} \\\\ \\hline \\mathbf{Head} & 0.6 & 0.3\\\\  \\mathbf{Tail} & 0.4 & 0.7  \\end{array}\n",
    "        \\right)\n",
    "    \\left(\n",
    "        CurrentState=\\begin{pmatrix}1 \\\\ 0\\end{pmatrix}\n",
    "    \\right) $\n",
    "    \n",
    "Each entry of the new vector is calculated by a row and current state:\n",
    "\n",
    "$\n",
    "\\begin{pmatrix}  0.6 \\cdot 1 + 0.3 \\cdot 0 \\\\ 0.4 \\cdot 1 + 0.7 \\cdot 0  \\end{pmatrix}\n",
    "=\n",
    "\\begin{pmatrix} 0.6 + 0 \\\\ 0.4 + 0 \\end{pmatrix}\n",
    "=\n",
    "\\begin{pmatrix}0.6 \\\\ 0.4\\end{pmatrix}.\n",
    "$"
   ]
  },
  {
   "cell_type": "markdown",
   "metadata": {},
   "source": [
    "**After second coin flip:**\n",
    "\n",
    "$  \\left( \n",
    "        GameCoins = \\begin{array}{c|cc} \\hookleftarrow & \\mathbf{Head} & \\mathbf{Tail} \\\\ \\hline \\mathbf{Head} & 0.6 & 0.3\\\\  \\mathbf{Tail} & 0.4 & 0.7  \\end{array}\n",
    "        \\right)\n",
    "    \\left(\n",
    "        CurrentState=\\begin{pmatrix}0.6 \\\\ 0.4\\end{pmatrix}\n",
    "    \\right) $\n",
    "    \n",
    "Each entry of the new vector is calculated by a row and current state:\n",
    "\n",
    "$\n",
    "\\begin{pmatrix}  0.6 \\cdot 0.6 + 0.3 \\cdot 0.4 \\\\ 0.4 \\cdot 0.6 + 0.7 \\cdot 0.4  \\end{pmatrix}\n",
    "=\n",
    "\\begin{pmatrix} 0.36 + 0.12 \\\\ 0.24 + 0.28 \\end{pmatrix}\n",
    "=\n",
    "\\begin{pmatrix}0.48 \\\\ 0.52\\end{pmatrix}.\n",
    "$"
   ]
  },
  {
   "cell_type": "markdown",
   "metadata": {},
   "source": [
    "**Coin-flipping protocol** of Asja is a *probabilistic operator*.\n",
    "\n",
    "Similarly to any operator, depending on the current state, Asja's coin-flipping protocol determines the next state.\n",
    "\n",
    "$$\n",
    "    \\begin{pmatrix}1 \\\\ 0\\end{pmatrix} \\xrightarrow{\\mbox{Asja's coin-flipping protocol}} \\begin{pmatrix}0.6 \\\\ 0.4\\end{pmatrix}\n",
    "    \\xrightarrow{\\mbox{Asja's coin-flipping protocol}}  \\begin{pmatrix}0.48 \\\\ 0.52\\end{pmatrix}.\n",
    "$$"
   ]
  },
  {
   "cell_type": "markdown",
   "metadata": {},
   "source": [
    "**A probabilistic operator evolves the system from a probabilistic state to a probabilistic state.**\n",
    "\n",
    "Asja's coin-flipping protocol transforms $ \\begin{pmatrix} 0.8 \\\\ 0.2 \\end{pmatrix} $ to $ \\begin{pmatrix} 0.54 \\\\ 0.46 \\end{pmatrix} $.\n",
    "\n",
    "When calculating the new state, we use the table $  GameCoins = \\begin{array}{c|cc} \\hookleftarrow & \\mathbf{Head} & \\mathbf{Tail} \\\\ \\hline \\mathbf{Head} & 0.6 & 0.3\\\\  \\mathbf{Tail} & 0.4 & 0.7  \\end{array} $ and the current state $ \\begin{pmatrix} 0.8 \\\\ 0.2 \\end{pmatrix} $:\n",
    "\n",
    "$$\n",
    "    \\begin{pmatrix} 0.6 \\cdot 0.8 + 0.3 \\cdot 0.2 \\\\ 0.4 \\cdot 0.8 + 0.7 \\cdot 0.2 \\end{pmatrix} = \\begin{pmatrix} 0.48 + 0.06 \\\\ 0.32 + 0.14 \\end{pmatrix} = \\begin{pmatrix} 0.54 \\\\ 0.46 \\end{pmatrix}.\n",
    "$$"
   ]
  },
  {
   "cell_type": "markdown",
   "metadata": {},
   "source": [
    "## Probabilistic operator\n",
    "\n",
    "A probabilistic operator can be represented as a square table or matrix.\n",
    "\n",
    "The entries of a probabilistic operator represent the transition probabilities between the states.\n",
    "\n",
    "Therefore, **each entry is nonnegative.**\n",
    "\n",
    "Each column represents the transition probabilities from a state to all states. Therefore, **the summation of all entries in each column is 1**, i.e., probability 1 is distributed over all states. \n",
    "\n",
    "Any matrix satisfying these two properties is called a **stochastic matrix**.\n",
    "\n",
    "A probabilistic operator is a stochastic matrix, and vice versa.\n",
    "\n",
    "*Remark that the operator of any linear system is represented as a matrix.*"
   ]
  },
  {
   "cell_type": "markdown",
   "metadata": {},
   "source": [
    "## Probabilistic evolution\n",
    "\n",
    "A probabilistic state is a stochastic vector,  say $ v $.\n",
    "\n",
    "A probabilistic operator is a stochastic matrix, say $ A $,\n",
    "\n",
    "If probabilistic operator $ A $ is applied to probabilistic state $ v $, the new state, say $v'$, is calculated as \n",
    "\n",
    "$  v' = A \\cdot v. $\n",
    "\n",
    "*Remark that the evolution of linear system is represented by matrix-vector multiplication.*"
   ]
  },
  {
   "cell_type": "markdown",
   "metadata": {},
   "source": [
    "If we represent $ GameCoins $ as a matrix: $ \\begin{pmatrix} 0.6 & 0.3 \\\\ 0.4 & 0.7 \\end{pmatrix} $, then the new probabilistic state is calculated as\n",
    "\n",
    "$\n",
    "    \\begin{pmatrix} 0.54 \\\\ 0.46 \\end{pmatrix} = \\begin{pmatrix} 0.6 & 0.3 \\\\ 0.4 & 0.7 \\end{pmatrix} \\begin{pmatrix} 0.8 \\\\ 0.2 \\end{pmatrix}.\n",
    "$"
   ]
  },
  {
   "cell_type": "markdown",
   "metadata": {},
   "source": [
    "## Task 1\n",
    "\n",
    "The operator $ GameCoins = \\begin{pmatrix} 0.6 & 0.3 \\\\ 0.4 & 0.7 \\end{pmatrix} $ is applied to the probabilistic state $ \\begin{pmatrix} 0.1 \\\\ 0.9 \\end{pmatrix} $. \n",
    "\n",
    "Then, the new probabilistic state is\n",
    "\n",
    "$ \\begin{pmatrix} 0.6 & 0.3 \\\\ 0.4 & 0.7 \\end{pmatrix} \\begin{pmatrix} 0.1 \\\\ 0.9 \\end{pmatrix} = \\begin{pmatrix} 0.33 \\\\ 0.67 \\end{pmatrix}. $\n",
    "\n",
    "Please verify the correctness of matrix-vector multiplication."
   ]
  },
  {
   "cell_type": "markdown",
   "metadata": {},
   "source": [
    "## Task 2\n",
    "\n",
    "We are given the following probabilistic operator: $ B =  \\begin{pmatrix} 0.4 & 0.6 & 0 \\\\ 0.2 & 0.1 & 0.7 \\\\ 0.4 & 0.3 & 0.3 \\end{pmatrix} $.\n",
    "\n",
    "What is the transition probability from the second state to the third state?\n",
    "\n",
    "What is the transition probability from the third state to the first state?\n",
    "\n",
    "What is the transition probability from the first state to the second state?"
   ]
  },
  {
   "cell_type": "markdown",
   "metadata": {},
   "source": [
    "## Task 3\n",
    "\n",
    "Randomly construct a $ (3 \\times 3 ) $-dimensional probabilistic operator.\n",
    "\n",
    "That is, randomly determine the entries of the matrix that represents a probabilistic operator."
   ]
  },
  {
   "cell_type": "code",
   "execution_count": null,
   "metadata": {},
   "outputs": [],
   "source": [
    "# your solution is here"
   ]
  },
  {
   "cell_type": "markdown",
   "metadata": {},
   "source": [
    "## Task 4\n",
    "\n",
    "What is the new probabilistic state if the operator $ B =  \\begin{pmatrix} 0.4 & 0.6 & 0 \\\\ 0.2 & 0.1 & 0.7 \\\\ 0.4 & 0.3 & 0.3 \\end{pmatrix} $ is applied to the state $ \\begin{pmatrix} 0.1 \\\\ 0.3 \\\\ 0.6 \\end{pmatrix} $.\n",
    "\n",
    "Please find the result by using matrix-vector multiplication.\n",
    "\n",
    "Please do not use any python library for matrix-vector multiplication. \n",
    "\n",
    "*The new probabilistic state should be $ \\begin{pmatrix}0.22 \\\\ 0.47 \\\\ 0.31\\end{pmatrix} $.*"
   ]
  },
  {
   "cell_type": "code",
   "execution_count": null,
   "metadata": {},
   "outputs": [],
   "source": [
    "# operator B\n",
    "B = [\n",
    "    [0.4,0.6,0],\n",
    "    [0.2,0.1,0.7],\n",
    "    [0.4,0.3,0.3]\n",
    "]\n",
    "\n",
    "# the current state\n",
    "v = [0.1,0.3,0.6]\n",
    "\n",
    "# your solution is here"
   ]
  },
  {
   "cell_type": "markdown",
   "metadata": {},
   "source": [
    "## Task 5\n",
    "\n",
    "Write a function named *linear_evolve* that takes a probabilistic operator and a probabilistic state, and then returns the new probabilistic state.\n",
    "\n",
    "Please do not use any python library for matrix-vector multiplication.\n",
    "\n",
    "Your function should work for any dimension.\n",
    "\n",
    "Save your function so that you can use it later.\n",
    "\n",
    "Test your function on $ B = \\begin{pmatrix} 0.4 & 0.6 & 0 \\\\ 0.2 & 0.1 & 0.7 \\\\ 0.4 & 0.3 & 0.3 \\end{pmatrix} $ and $ \\begin{pmatrix}0.1 \\\\ 0.3 \\\\ 0.6\\end{pmatrix} $. \n",
    "\n",
    "The new probabilistic state should be $ \\begin{pmatrix}0.22 \\\\ 0.47 \\\\ 0.31\\end{pmatrix} $.\n",
    "\n",
    "Then, evolve your system for 5, 10, 20, and 40 steps.\n",
    "\n",
    "This system should evolve to a fixed probabilistic state.\n",
    "\n",
    "Change your initial state to  $ \\begin{pmatrix}1 \\\\ 0 \\\\ 0\\end{pmatrix} $, and see whether the converged state is the same or not."
   ]
  },
  {
   "cell_type": "code",
   "execution_count": null,
   "metadata": {},
   "outputs": [],
   "source": [
    "# your solution is here"
   ]
  },
  {
   "cell_type": "markdown",
   "metadata": {},
   "source": [
    "---\n",
    "\n",
    "## Extra: Task 6\n",
    "\n",
    "The operator $ \\widetilde{I} = \\begin{pmatrix}0.999 & 0.001\\\\ 0.001 & 0.999 \\end{pmatrix} $ is very similar to Identity operator. However, it converges to a certain matrix.\n",
    "\n",
    "Find $  \\underbrace{\\widetilde{I} \\cdot \\widetilde{I} \\cdots \\widetilde{I}}_{k\\mbox{ times}} $ for $ k = 10, 100, 1000, 10000, 100000 $ and then guess the converging matrix."
   ]
  },
  {
   "cell_type": "markdown",
   "metadata": {},
   "source": [
    "## Extra: Task 7\n",
    "\n",
    "Repeat Task 6 for the operator $ \\widetilde{NOT} = \\begin{pmatrix}0.001 & 0.999\\\\ 0.999 & 0.001 \\end{pmatrix} $."
   ]
  }
 ],
 "metadata": {
  "kernelspec": {
   "display_name": "Python 3",
   "language": "python",
   "name": "python3"
  },
  "language_info": {
   "codemirror_mode": {
    "name": "ipython",
    "version": 3
   },
   "file_extension": ".py",
   "mimetype": "text/x-python",
   "name": "python",
   "nbconvert_exporter": "python",
   "pygments_lexer": "ipython3",
   "version": "3.8.5"
  }
 },
 "nbformat": 4,
 "nbformat_minor": 4
}