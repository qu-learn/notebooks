{
 "cells": [
  {
   "cell_type": "markdown",
   "metadata": {},
   "source": [
    "<font style=\"font-size:28px;\" align=\"left\"><b>Two Probabilistic Bits  </b></font>\n",
    "<br>\n",
    "_prepared by Abuzer Yakaryilmaz_"
   ]
  },
  {
   "cell_type": "markdown",
   "metadata": {},
   "source": [
    "Suppose that we have two probabilistic bits, and our probabilistic states respectively are\n",
    "\n",
    "$ \\begin{pmatrix}0.2 \\\\ 0.8\\end{pmatrix} \\mbox{ and } \\begin{pmatrix}0.6 \\\\ 0.4 \\end{pmatrix}. $\n",
    "\n",
    "If we combine both bits as a single system, then what is the state of the combined system?"
   ]
  },
  {
   "cell_type": "markdown",
   "metadata": {},
   "source": [
    "In total, we have four different states. We can name them as follows:\n",
    "<ul>\n",
    "    <li>00: both bits are in states 0</li>\n",
    "    <li>01: the first bit is in state 0 and the second bit is in state 1</li>\n",
    "    <li>10: the first bit is in state 1 and the second bit is in state 0</li>\n",
    "    <li>11: both bits are in states 1</li>\n",
    "</ul>"
   ]
  },
  {
   "cell_type": "markdown",
   "metadata": {},
   "source": [
    "<h3> Task 1 </h3>\n",
    "\n",
    "<b>Discussion and analysis:</b>\n",
    "\n",
    "What are the probabilities of being in states $ 00 $, $ 01 $, $ 10 $, and $11$?\n",
    "\n",
    "How can we represent these probabilities as a column vector?"
   ]
  },
  {
   "cell_type": "markdown",
   "metadata": {},
   "source": [
    "<h3> Representation for states 0 and 1</h3>\n",
    "\n",
    "The vector representation of state 0 is $ \\begin{pmatrix}1 \\\\ 0\\end{pmatrix} $. Similarly, the vector representation of state 1 is $ \\begin{pmatrix}0 \\\\ 1\\end{pmatrix} $.\n",
    "\n",
    "We use $ |0\\rangle $ to represent $ \\begin{pmatrix}1 \\\\ 0\\end{pmatrix} $ and $ |1\\rangle $ to represent $ \\begin{pmatrix}0 \\\\ 1\\end{pmatrix} $.\n",
    "\n",
    "Then, the probabilistic state $ \\begin{pmatrix}0.2 \\\\ 0.8\\end{pmatrix} $ is also represented as $ 0.2 |0\\rangle + 0.8 |1\\rangle $.\n",
    "\n",
    "Similarly, the probabilistic state $ \\begin{pmatrix}0.6 \\\\ 0.4\\end{pmatrix} $ is also represented as $ 0.6 |0\\rangle + 0.4 |1\\rangle $."
   ]
  },
  {
   "cell_type": "markdown",
   "metadata": {},
   "source": [
    "<h3> Composite systems </h3>\n",
    "\n",
    "When two systems are composed, then their states are tensored to calculate the state of composite system.\n",
    "\n",
    "The probabilistic state of the first bit is $  \\begin{pmatrix}0.2 \\\\ 0.8\\end{pmatrix} = 0.2 |0\\rangle + 0.8 |1\\rangle $.\n",
    "\n",
    "The probabilistic state of the second bit is $  \\begin{pmatrix}0.6 \\\\ 0.4\\end{pmatrix} = 0.6 |0\\rangle + 0.4 |1\\rangle $.\n",
    "\n",
    "Then, the probabilistic state of the composite system is $ \\big( 0.2 |0\\rangle + 0.8 |1\\rangle \\big) \\otimes  \\big( 0.6 |0\\rangle + 0.4 |1\\rangle \\big) $.\n"
   ]
  },
  {
   "cell_type": "markdown",
   "metadata": {},
   "source": [
    "<h3> Task 2 </h3>\n",
    "\n",
    "Find the probabilistic state of the composite system.\n",
    "\n",
    "<i> \n",
    "Rule 1: Tensor product distributes over addition in the same way as the distribution of multiplication over addition.\n",
    "\n",
    "Rule 2: $ \\big( 0.3 |1\\rangle \\big) \\otimes \\big( 0.7 |0\\rangle \\big) = (0.3 \\cdot 0.7) \\big( |1\\rangle \\otimes |0\\rangle \\big) = 0.21 |10\\rangle $.\n",
    "</i>"
   ]
  },
  {
   "cell_type": "markdown",
   "metadata": {},
   "source": [
    "<h3> Task 3</h3>\n",
    "\n",
    "Find the probabilistic state of the composite system by calculating this tensor product $ \\begin{pmatrix}0.2 \\\\ 0.8\\end{pmatrix} \\otimes \\begin{pmatrix}0.6 \\\\ 0.4 \\end{pmatrix} $."
   ]
  },
  {
   "cell_type": "markdown",
   "metadata": {},
   "source": [
    "<h3> Task 4</h3>\n",
    "\n",
    "Find the vector representations of $ |00\\rangle $, $ |01\\rangle $, $|10\\rangle$, and $ |11\\rangle $.\n",
    "\n",
    "<i>The vector representation of $ |ab\\rangle $ is $ |a\\rangle \\otimes |b\\rangle $ for $ a,b \\in \\{0,1\\} $.</i>"
   ]
  },
  {
   "cell_type": "markdown",
   "metadata": {},
   "source": [
    "---\n",
    "\n",
    "<h3> Extra: Task 5 </h3>\n",
    "\n",
    "Suppose that we have three bits.\n",
    "\n",
    "Find the vector representations of $ |abc\\rangle $ for each $ a,b,c \\in \\{0,1\\} $."
   ]
  },
  {
   "cell_type": "markdown",
   "metadata": {},
   "source": [
    "<h3> Extra: Task 6 </h3>\n",
    "\n",
    "<i>This task is challenging.</i>\n",
    "\n",
    "Suppose that we have four bits. \n",
    "\n",
    "Number 9 is represented as $ 1001 $ in binary. Verify that the vector representation of $ |1001\\rangle $ is the zero vector except its $10$th entry, which is 1.\n",
    "\n",
    "Number 7 is represented as $ 0111 $ in binary. Verify that the vector representation of $ |0111\\rangle $ is the zero vector except its $8$th entry, which is 1.\n",
    "\n",
    "Generalize this idea for any number between 0 and 15.\n",
    "\n",
    "Generalize this idea for any number of bits."
   ]
  }
 ],
 "metadata": {
  "kernelspec": {
   "display_name": "Python 3",
   "language": "python",
   "name": "python3"
  },
  "language_info": {
   "codemirror_mode": {
    "name": "ipython",
    "version": 3
   },
   "file_extension": ".py",
   "mimetype": "text/x-python",
   "name": "python",
   "nbconvert_exporter": "python",
   "pygments_lexer": "ipython3",
   "version": "3.7.1"
  }
 },
 "nbformat": 4,
 "nbformat_minor": 2
}