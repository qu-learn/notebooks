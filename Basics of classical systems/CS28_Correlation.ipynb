{
 "cells": [
  {
   "cell_type": "markdown",
   "metadata": {},
   "source": [
    "<font style=\"font-size:28px;\" align=\"left\"><b> Correlation </b></font>\n",
    "<br>\n",
    "_prepared by Abuzer Yakaryilmaz_"
   ]
  },
  {
   "cell_type": "markdown",
   "metadata": {},
   "source": [
    "We start with an explanation (by Daniel Reitzner).\n",
    "\n",
    "Our father prepares the lunches of my sister and mine. He puts our boxes either pasta or couscous salad.\n",
    "\n",
    "Until openning the boxes, we do not know our lunch. But, once I open my box, I will know the lunch of my sister as well, and vice versa.\n",
    "\n",
    "This is <i>correlation</i>."
   ]
  },
  {
   "cell_type": "markdown",
   "metadata": {},
   "source": [
    "Now, we follow a more formal explanation.\n",
    "\n",
    "Asja has one euro and Balvis has one cent.\n",
    "\n",
    "Both coins are fair and we do not see their coins. \n",
    "\n",
    "They start with \"head\" (state 0): $ \\begin{pmatrix}1 \\\\ 0\\end{pmatrix} $ and $ \\begin{pmatrix}1 \\\\ 0\\end{pmatrix} $, respectively.\n",
    "<br>\n",
    "Asja flips her coin once. Then, the probabilistic states of Asja and Balvis are $ \\begin{pmatrix}\\frac{1}{2} \\\\ \\frac{1}{2}\\end{pmatrix} $ and $ \\begin{pmatrix}1 \\\\ 0\\end{pmatrix} $, respectively."
   ]
  },
  {
   "cell_type": "markdown",
   "metadata": {},
   "source": [
    "<h3> Task 1</h3>\n",
    "\n",
    "Calculate the state of composite system."
   ]
  },
  {
   "cell_type": "markdown",
   "metadata": {},
   "source": [
    "They apply Controlled-NOT operator on their coins, which operates on two bits:\n",
    "\n",
    "$$\n",
    "    CNOT = \\begin{pmatrix} 1 & 0 & 0 & 0 \\\\ 0 & 1 & 0 & 0 \\\\ 0 & 0 & 0 & 1 \\\\ 0 & 0 & 1 & 0 \\end{pmatrix}.\n",
    "$$\n",
    "\n",
    "<i> The effect of CNOT is that, if the state of the first bit is 1, then the value of the second bit is flipped.\n",
    "\n",
    "Here the first one is the controlled bit and the second one is the targeted bit.</i>\n",
    "\n",
    "By using the basis states:\n",
    "<ul style=\"font-size:16px;\">\n",
    "    <li>$CNOT |00\\rangle = |00\\rangle$</li>\n",
    "    <li>$CNOT |01\\rangle = |01\\rangle$</li>\n",
    "    <li>$CNOT |\\mathbf{\\color{red}{1}\\color{blue}{0}}\\rangle = |\\mathbf{\\color{red}{1}\\color{blue}{1}}\\rangle $</li>\n",
    "    <li>$CNOT |\\mathbf{\\color{red}{1}\\color{blue}{1}}\\rangle = |\\mathbf{\\color{red}{1}\\color{blue}{0}}\\rangle $</li>\n",
    "</ul>"
   ]
  },
  {
   "cell_type": "markdown",
   "metadata": {},
   "source": [
    "<h3> Task 2</h3>\n",
    "\n",
    "Verify that the state of composite system is $ \\frac{1}{2} |00\\rangle + \\frac{1}{2} |11\\rangle $ after CNOT operator."
   ]
  },
  {
   "cell_type": "markdown",
   "metadata": {},
   "source": [
    "<h3> Task 3 </h3>\n",
    "\n",
    "<b>Discussion and analysis:</b>\n",
    "\n",
    "Suppose that Asja and Balvis separate from each other without changing their states. \n",
    "\n",
    "If we see the Asja's coin, then can we guess the state of Balvis' coin, and vice versa? \n",
    "\n",
    "If so, we can say that both bits are correlated to each other."
   ]
  },
  {
   "cell_type": "markdown",
   "metadata": {},
   "source": [
    "<h3>Correlated systems</h3>\n",
    "\n",
    "If the state of a composite system cannot be written as the tensor product of the states of its sub-systems, then we can say that the sub-systems are correlated."
   ]
  },
  {
   "cell_type": "markdown",
   "metadata": {},
   "source": [
    "<h3>Task 4</h3>\n",
    "\n",
    "Show that it is not possible to write $ \\begin{pmatrix} \\frac{1}{2} \\\\ 0 \\\\ 0 \\\\ \\frac{1}{2} \\end{pmatrix} $ as $ \\begin{pmatrix}a\\\\b\\end{pmatrix} \\otimes \\begin{pmatrix}c\\\\d\\end{pmatrix} $ for some numbers $ a,b,c,$ and $d $.\n",
    "\n",
    "<i>Remark that the correlation in general might not be easily shown as in this basic example. </i>"
   ]
  },
  {
   "cell_type": "markdown",
   "metadata": {},
   "source": [
    "<h3> Correlation with more than two bits</h3>\n",
    "\n",
    "Curie has a 50 cent in state 0. \n",
    "\n",
    "Then, the state of the composite system defined by these three coins will be \n",
    "\n",
    "$ \\left( \\frac{1}{2} |00\\rangle + \\frac{1}{2} |11\\rangle  \\right) \\otimes |0\\rangle = \n",
    "\\frac{1}{2} |000\\rangle + \\frac{1}{2} |110\\rangle $.\n",
    "\n",
    "What happens if CNOT operator is applied to Asja's coin and Curie's coin, where Asja's coin is the control one and Curie's coin is the target one?\n",
    "\n",
    "CNOT is an operator defined for two bits. So, it can be applied to any pair of bits. \n",
    "\n",
    "In such a case, the value of any other bit in the composed system does not change.\n",
    "\n",
    "One may ask how its matrix form looks like defined on three bits."
   ]
  },
  {
   "cell_type": "markdown",
   "metadata": {},
   "source": [
    "<h3> Task 5 </h3>\n",
    "\n",
    "Verify that the CNOT operator applied to Asja's and Curie's coins as described above maps the basis states as follows:\n",
    "<ul>\n",
    "    <li> $ |000\\rangle \\rightarrow |000\\rangle $ </li>\n",
    "    <li> $ |001\\rangle \\rightarrow |001\\rangle $ </li>\n",
    "    <li> $ |010\\rangle \\rightarrow |010\\rangle $ </li>\n",
    "    <li> $ |011\\rangle \\rightarrow |011\\rangle $ </li>\n",
    "    <li> $ |\\mathbf{\\color{red}{1}} 0  \\mathbf{\\color{blue}{0}} \\rangle \\rightarrow |\\mathbf{\\color{red}{1}} 0  \\mathbf{\\color{blue}{1}} \\rangle  $ </li>\n",
    "    <li> $ |\\mathbf{\\color{red}{1}} 0  \\mathbf{\\color{blue}{1}} \\rangle \\rightarrow |\\mathbf{\\color{red}{1}} 0  \\mathbf{\\color{blue}{0}} \\rangle  $ </li>\n",
    "    <li> $ |\\mathbf{\\color{red}{1}} 1  \\mathbf{\\color{blue}{0}} \\rangle \\rightarrow |\\mathbf{\\color{red}{1}} 1  \\mathbf{\\color{blue}{1}} \\rangle  $ </li>\n",
    "    <li> $ |\\mathbf{\\color{red}{1}} 1  \\mathbf{\\color{blue}{1}} \\rangle \\rightarrow |\\mathbf{\\color{red}{1}} 1  \\mathbf{\\color{blue}{0}} \\rangle  $ </li>\n",
    "</ul>"
   ]
  },
  {
   "cell_type": "markdown",
   "metadata": {},
   "source": [
    "<h3> Task 6 </h3>\n",
    "\n",
    "Verify that the described operator in Task 5 has the following matrix form:\n",
    "\n",
    "$$\n",
    "    \\begin{pmatrix}\n",
    "     \\mathbf{1} & 0 & 0 & 0 & 0 & 0 & 0 & 0 \\\\\n",
    "     0 & \\mathbf{1} & 0 & 0 & 0 & 0 & 0 & 0 \\\\\n",
    "     0 & 0 & \\mathbf{1} & 0 & 0 & 0 & 0 & 0 \\\\\n",
    "     0 & 0 & 0 & \\mathbf{1} & 0 & 0 & 0 & 0 \\\\      \n",
    "     0 & 0 & 0 & 0 & 0 & \\mathbf{1} & 0 & 0 \\\\\n",
    "     0 & 0 & 0 & 0 & \\mathbf{1} & 0 & 0 & 0 \\\\\n",
    "     0 & 0 & 0 & 0 & 0 & 0 & 0 & \\mathbf{1} \\\\\n",
    "     0 & 0 & 0 & 0 & 0 & 0 & \\mathbf{1} & 0 \\\\\n",
    "    \\end{pmatrix}\n",
    "$$"
   ]
  },
  {
   "cell_type": "markdown",
   "metadata": {},
   "source": [
    "<h3> Task 7 </h3>\n",
    "\n",
    "Calculate the new state of the composed system defined on the three bits after the CNOT operator defined in Task 5 or Task6.\n",
    "\n",
    "$ \\frac{1}{2} |000\\rangle + \\frac{1}{2} |110\\rangle \\rightarrow ? $"
   ]
  },
  {
   "cell_type": "markdown",
   "metadata": {},
   "source": [
    "<h3> Task 8 </h3>\n",
    "\n",
    "Suppose that Daria had a 10 cent in state 1, and its coin is also combined with the composite system.\n",
    "\n",
    "What is the state of the new composite system?\n",
    "\n",
    "Then, CNOT operator is applied to Curie's coin and Daria's coin, where Curie's coin is the control bit.\n",
    "\n",
    "What is the new state of the composite system after this CNOT operator?\n",
    "\n",
    "<i>Observe that the correlation with a new bit can be created by applying a CNOT gate between any bit already in the correlation and the new bit, where the new bit is the target one.</i>"
   ]
  }
 ],
 "metadata": {
  "kernelspec": {
   "display_name": "Python 3",
   "language": "python",
   "name": "python3"
  },
  "language_info": {
   "codemirror_mode": {
    "name": "ipython",
    "version": 3
   },
   "file_extension": ".py",
   "mimetype": "text/x-python",
   "name": "python",
   "nbconvert_exporter": "python",
   "pygments_lexer": "ipython3",
   "version": "3.8.5"
  }
 },
 "nbformat": 4,
 "nbformat_minor": 4
}