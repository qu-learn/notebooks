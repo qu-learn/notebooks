{
 "cells": [
  {
   "cell_type": "markdown",
   "metadata": {},
   "source": [
    "<font style=\"font-size:28px;\" align=\"left\"><b> One Qubit </b></font>\n",
    "<br>\n",
    "_prepared by Abuzer Yakaryilmaz_\n",
    "<br><br>\n",
    "[<img src=\"../qworld/images/watch_lecture.jpg\" align=\"left\">](https://youtu.be/MTsgLSrTNbY)\n",
    "<br><br><br>"
   ]
  },
  {
   "cell_type": "markdown",
   "metadata": {},
   "source": [
    "_Quantum systems are linear systems: \"The quantum states are represented by vectors and quantum operators are represented by matrices. The new quantum states are calculated by corresponding matrix-vector multiplications.\"_\n",
    "\n",
    "A qubit (quantum bit) has two states: state 0 and state 1.\n",
    "\n",
    "They are denoted by ket-notation:\n",
    "\n",
    "$ |0\\rangle = \\begin{pmatrix}1 \\\\ 0\\end{pmatrix} $ and $ |1\\rangle = \\begin{pmatrix}0\\\\ 1\\end{pmatrix} $.\n",
    "\n"
   ]
  },
  {
   "cell_type": "markdown",
   "metadata": {},
   "source": [
    "<h3> NOT operator </h3>\n",
    "\n",
    "NOT operator flips the value of a qubit.\n",
    "\n",
    "We use capital letter for the matrix form of the operators:\n",
    "\n",
    "$ X = \\begin{pmatrix}0 & 1 \\\\ 1 & 0\\end{pmatrix}$."
   ]
  },
  {
   "cell_type": "markdown",
   "metadata": {},
   "source": [
    "The action of $ X $ on the qubit:\n",
    "\n",
    "$ X |0\\rangle = |1\\rangle $. \n",
    "\n",
    "More explicitly, $ X |0\\rangle = \\begin{pmatrix}0 & 1 \\\\ 1 & 0\\end{pmatrix} \\begin{pmatrix}1 \\\\ 0\\end{pmatrix} = \\begin{pmatrix}0 \\\\ 1\\end{pmatrix} = |1\\rangle $.\n",
    "\n",
    "Similarly, $ X |1\\rangle = |0\\rangle $.\n",
    "\n",
    "More explicitly, $ X |1\\rangle = \\begin{pmatrix}0 & 1 \\\\ 1 & 0\\end{pmatrix} \\begin{pmatrix}0 \\\\ 1\\end{pmatrix} = \\begin{pmatrix}1 \\\\ 0\\end{pmatrix} = |0\\rangle $."
   ]
  },
  {
   "cell_type": "markdown",
   "metadata": {},
   "source": [
    "<div style=\"background-color:#f8f8f8;color:#555555;font-size:13px;\">\n",
    "<b><i>Why is the NOT operator referred to as the x-gate?<i></b>\n",
    "   \n",
    "In Bronze, we use only real numbers, but we should note that complex numbers are also used in quantum computing. When complex numbers are used, the state of a qubit can be represented by a four dimensional real number valued vector, which is not possible to visualize. On the other hand, it is possible to represent such state in three dimensions (with real numbers). This representation is called [Bloch sphere](https://en.wikipedia.org/wiki/Bloch_sphere).\n",
    "\n",
    "In three dimensions, we have axes: x, y, and z. X refers to the rotation with respect to x-axis. Similarly, we have the rotation with respect to y-axis and z-axis. In Bronze, we will also see the operator Z (z-gate). The operator Y is defined with complex numbers.\n",
    "</div>"
   ]
  },
  {
   "cell_type": "markdown",
   "metadata": {},
   "source": [
    "<h3> Hadamard operator</h3>\n",
    "\n",
    "Hadamard operator ($ H $ or h-gate) looks similar to a fair coin-flipping.\n",
    "\n",
    "$$\n",
    "    H = \\begin{pmatrix} \\frac{1}{\\sqrt{2}} & \\frac{1}{\\sqrt{2}} \\\\ \\frac{1}{\\sqrt{2}} & -\\frac{1}{\\sqrt{2}} \\end{pmatrix}.\n",
    "$$\n",
    "\n",
    "But, there are certain dissimilarities:\n",
    "<ul>\n",
    "    <li> we have a <u>negative entry</u>, and</li>\n",
    "    <li> instead of $ \\frac{1}{2} $, we have <u>its square root</u> $ ( \\frac{1}{\\sqrt{2}} ) $. </li>\n",
    "</ul>\n",
    "\n",
    "<font color=\"blue\"> Quantum systems can have negative transitions. </font>\n",
    "\n",
    "<font color=\"blue\"> Can probabilistic systems be extended with negative values?</font> "
   ]
  },
  {
   "cell_type": "markdown",
   "metadata": {},
   "source": [
    "<h4> One-step Hadamard</h4>\n",
    "\n",
    "Start in $ |0\\rangle $.\n",
    "\n",
    "After applying $ H $:\n",
    "\n",
    "$$\n",
    "  H |0\\rangle =  \\begin{pmatrix} \\frac{1}{\\sqrt{2}} & \\frac{1}{\\sqrt{2}} \\\\ \\frac{1}{\\sqrt{2}} & -\\frac{1}{\\sqrt{2}} \\end{pmatrix} \\begin{pmatrix}1 \\\\ 0\\end{pmatrix} =  \\begin{pmatrix} \\frac{1}{\\sqrt{2}} \\\\  \\frac{1}{\\sqrt{2}} \\end{pmatrix}.\n",
    "$$\n",
    "\n",
    "After measurement, we observe the states $ |0\\rangle $ and $ |1\\rangle $ with equal probability $ \\frac{1}{2} $. \n",
    "\n",
    "How can this be possible when their values are $ \\frac{1}{\\sqrt{2}} $?"
   ]
  },
  {
   "cell_type": "markdown",
   "metadata": {},
   "source": [
    "<img src=\"../photon/images/photon3a.jpg\" width=\"45%\" align=\"left\">"
   ]
  },
  {
   "cell_type": "markdown",
   "metadata": {},
   "source": [
    "Let's start in $ |1\\rangle $.\n",
    "\n",
    "After applying $ H $:\n",
    "\n",
    "$$\n",
    "    H |1\\rangle = \\begin{pmatrix} \\frac{1}{\\sqrt{2}} & \\frac{1}{\\sqrt{2}} \\\\ \\frac{1}{\\sqrt{2}} & -\\frac{1}{\\sqrt{2}} \\end{pmatrix} \\begin{pmatrix}0 \\\\ 1\\end{pmatrix} = \\begin{pmatrix} \\frac{1}{\\sqrt{2}} \\\\ -\\frac{1}{\\sqrt{2}} \\end{pmatrix}.\n",
    "$$\n",
    "\n",
    "After measurement, we observe the states $ |0\\rangle $ and $ |1\\rangle $ with equal probability $ \\frac{1}{2} $. \n",
    "\n",
    "We obtain the same values even when one of the values is negative. "
   ]
  },
  {
   "cell_type": "markdown",
   "metadata": {},
   "source": [
    "<img src=\"../photon/images/photon3c.jpg\" width=\"35%\" align=\"left\">"
   ]
  },
  {
   "cell_type": "markdown",
   "metadata": {},
   "source": [
    "<i>The absolute value of a negative value is positive.</i>\n",
    "\n",
    "<i>The square of a negative value is also positive.</i>\n",
    "\n",
    "As we have observed, the second fact fits better when reading the measurement results.\n",
    "\n",
    "<font color=\"blue\"><b> When a quantum system is measured, the probability of observing one state is the square of its value [*].</b></font>\n",
    "\n",
    "The value of the system being in a state is called its <b>amplitude</b>.\n",
    "\n",
    "In the above example, the amplitudes of states $|0\\rangle$ and $ |1\\rangle $ are respectively $ \\frac{1}{\\sqrt{2}} $ and $ -\\frac{1}{\\sqrt{2}} $.\n",
    "\n",
    "The probabilities of observing them after a measurement are $ \\frac{1}{2} $.\n",
    "\n",
    "_Remark that, after observing state $ 0 $, the new state will be $ |0\\rangle $, and, after observing state $ 1 $, the new state will be $ |1\\rangle $._\n",
    "\n",
    "_[*] the square of its magnitude value when using complex numbers_"
   ]
  },
  {
   "cell_type": "markdown",
   "metadata": {},
   "source": [
    "### States $ |+> $ and $ |-> $"
   ]
  },
  {
   "cell_type": "markdown",
   "metadata": {},
   "source": [
    "In the literature, the quantum states obtained after applying $ H $ to $ |0\\rangle $ and $ |1\\rangle $ are known as **ket-plus** ($|\\rangle$) and **ket-minus** ($ |-> $) states, respectively:\n",
    "\n",
    "$ |\\rangle = H |0\\rangle = \\begin{pmatrix} \\frac{1}{\\sqrt{2}} & \\frac{1}{\\sqrt{2}} \\\\ \\frac{1}{\\sqrt{2}} & -\\frac{1}{\\sqrt{2}} \\end{pmatrix} \\begin{pmatrix}1 \\\\ 0\\end{pmatrix} = \\begin{pmatrix} \\frac{1}{\\sqrt{2}} \\\\  \\frac{1}{\\sqrt{2}} \\end{pmatrix} $\n",
    "\n",
    "$ |-> = H |1\\rangle =  \\begin{pmatrix} \\frac{1}{\\sqrt{2}} & \\frac{1}{\\sqrt{2}} \\\\ \\frac{1}{\\sqrt{2}} & -\\frac{1}{\\sqrt{2}} \\end{pmatrix} \\begin{pmatrix}0 \\\\ 1\\end{pmatrix} = \\begin{pmatrix} \\frac{1}{\\sqrt{2}} \\\\ -\\frac{1}{\\sqrt{2}} \\end{pmatrix} $"
   ]
  },
  {
   "cell_type": "markdown",
   "metadata": {},
   "source": [
    "<h3> Task 1 </h3>\n",
    "\n",
    "What are the probabilities of observing the states  $ |0\\rangle $ and $ |1\\rangle $ if the system is in $ \\begin{pmatrix}-\\frac{3}{5} \\\\ - \\frac{4}{5}\\end{pmatrix} $ or $ \\begin{pmatrix}\\frac{3}{5} \\\\ -\\frac{4}{5}\\end{pmatrix} $ or $ \\begin{pmatrix}\\frac{1}{\\sqrt{3}} \\\\ - \\frac{\\sqrt{2}}{\\sqrt{3}}\\end{pmatrix} $?"
   ]
  },
  {
   "cell_type": "code",
   "execution_count": null,
   "metadata": {},
   "outputs": [],
   "source": [
    "//\n",
    "// your solution is here\n",
    "//\n"
   ]
  },
  {
   "cell_type": "markdown",
   "metadata": {},
   "source": [
    "<h3> Quantum state </h3>\n",
    "\n",
    "<i>What do we know at this point?</i>\n",
    "<ul>\n",
    "    <li> A quantum state can be represented by a vector, in which each entry can be zero, a positive value, or a negative value. </li>\n",
    "    <li> We can also say that the amplitude of being in any state can be zero, a positive value, or a negative value. </li>\n",
    "    <li> The probability of observing one state after measurement is the square of its amplitude. </li>\n",
    "</ul>\n",
    "\n",
    "<i>What else can we say?</i>\n",
    "\n",
    "Can the entries of a quantum state be arbitrary?\n",
    "\n",
    "Do you remember the properties of a probabilistic state?"
   ]
  }
 ],
 "metadata": {
  "kernelspec": {
   "display_name": "Python 3",
   "language": "python",
   "name": "python3"
  },
  "language_info": {
   "codemirror_mode": {
    "name": "javascript",
    "version": 3
   },
   "file_extension": ".js",
   "mimetype": "text/javascript",
   "name": "javascript",
   "nbconvert_exporter": "javascript",
   "pygments_lexer": "javascript",
   "version": "ES6"
  }
 },
 "nbformat": 4,
 "nbformat_minor": 2
}