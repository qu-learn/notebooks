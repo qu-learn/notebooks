{
 "cells": [
  {
   "cell_type": "markdown",
   "metadata": {
    "title": "Introduction to Vectors as Lists"
   },
   "source": [
    "<font style=\"font-size:28px;\" align=\"left\"><b>Vectors: One Dimensional Lists</b></font>\n",
    "<br>\n",
    "_prepared by Abuzer Yakaryilmaz_\n",
    "<br><br>\n",
    "A <b>vector</b> is a list of numbers. Vectors are very useful to describe the state of a system, as we will see in the main tutorial.\n",
    "\n",
    "A list is a single object in python. Similarly, a vector is a single mathematical object.\n",
    "\n",
    "The number of elements in a list is its size or length. Similarly, the number of entries in a vector is called as the <b>size</b> or <b>dimension</b> of the vector."
   ]
  },
  {
   "cell_type": "markdown",
   "metadata": {
    "title": "Vector Representation: Row and Column Vectors"
   },
   "source": [
    "Vectors can be in horizontal or vertical shape.\n",
    "\n",
    "We show this list as a <i><u>four dimensional</u></i> <b>row vector</b> (horizontal) or a <b>column vector</b> (vertical):\n",
    "\n",
    "$$\n",
    "    u = \\begin{pmatrix} 1 & -2 & 0 & -5 \\end{pmatrix} ~~~\\mbox{ or }~~~ v =\\begin{pmatrix} 1 \\\\ -2 \\\\ 0 \\\\ 5 \\end{pmatrix}, ~~~\\mbox{ respectively.}\n",
    "$$\n",
    "\n",
    "Remark that we do not need to use any comma in vector representation."
   ]
  },
  {
   "cell_type": "code",
   "execution_count": null,
   "metadata": {
    "title": "Python Example: A Vector as a List"
   },
   "outputs": [],
   "source": [
    "# consider the following list with 4 elements \n",
    "L = [1,-2,0,5]\n",
    "print(L)"
   ]
  },
  {
   "cell_type": "markdown",
   "metadata": {
    "title": "Scalar Multiplication of Vectors"
   },
   "source": [
    "### Multiplying a vector with a number\n",
    "\n",
    "A vector can be multiplied by a number. This operation is often called **scalar multiplication**.\n",
    "\n",
    "Multiplication of a vector with a number is also a vector: each entry is multiplied by this number.\n",
    "\n",
    "$$\n",
    "    3 \\cdot \\begin{pmatrix} 1 \\\\ -2 \\\\ 0 \\\\ 5 \\end{pmatrix} = \\begin{pmatrix} 3 \\\\ -6 \\\\ 0 \\\\ 15 \\end{pmatrix}\n",
    "    ~~~~~~\\mbox{ or }~~~~~~\n",
    "    (-0.6) \\cdot \\begin{pmatrix} 1 \\\\ -2 \\\\ 0 \\\\ 5 \\end{pmatrix} = \\begin{pmatrix} -0.6 \\\\ 1.2 \\\\ 0 \\\\ -3 \\end{pmatrix}.\n",
    "$$"
   ]
  },
  {
   "cell_type": "code",
   "execution_count": null,
   "metadata": {
    "title": "Python Example: Scalar Multiplication"
   },
   "outputs": [],
   "source": [
    "# 3 * v\n",
    "v = [1,-2,0,5]\n",
    "print(\"v is\",v)\n",
    "# we use a new list for the result to avoid modifying the original\n",
    "v_scaled_1 = []\n",
    "for i in range(len(v)):\n",
    "    v_scaled_1.append(3 * v[i])\n",
    "print(\"3v is\", v_scaled_1)\n",
    "\n",
    "# -0.6 * v\n",
    "# reinitialize the list v, since it was not modified\n",
    "v_scaled_2 = []\n",
    "for i in range(len(v)):\n",
    "    v_scaled_2.append(-0.6 * v[i])\n",
    "print(\"-0.6v is\",v_scaled_2)"
   ]
  },
  {
   "cell_type": "markdown",
   "metadata": {
    "title": "Vector Addition"
   },
   "source": [
    "### Summation of vectors\n",
    "\n",
    "Two vectors (with the same dimension) can be summed up. The summation is a vector where the numbers in the same positions are added together.\n",
    "\n",
    "$$\n",
    "    u = \\begin{pmatrix} -3 \\\\ -2 \\\\ 0 \\\\ -1 \\\\ 4 \\end{pmatrix} \\mbox{ and } v = \\begin{pmatrix} -1\\\\ -1 \\\\2 \\\\ -3 \\\\ 5 \\end{pmatrix}.\n",
    "    ~~~~~~~ \\mbox{Then, }~~\n",
    "    u+v = \\begin{pmatrix} -3 \\\\ -2 \\\\ 0 \\\\ -1 \\\\ 4 \\end{pmatrix} + \\begin{pmatrix} -1\\\\ -1 \\\\2 \\\\ -3 \\\\ 5 \\end{pmatrix} =\n",
    "    \\begin{pmatrix} -3+(-1)\\\\ -2+(-1) \\\\0+2 \\\\ -1+(-3) \\\\ 4+5 \\end{pmatrix} = \\begin{pmatrix} -4\\\\ -3 \\\\2 \\\\ -4 \\\\ 9 \\end{pmatrix}.\n",
    "$$"
   ]
  },
  {
   "cell_type": "code",
   "execution_count": null,
   "metadata": {
    "title": "Python Example: Vector Addition"
   },
   "outputs": [],
   "source": [
    "u = [-3,-2,0,-1,4]\n",
    "v = [-1,-1,2,-3,5]\n",
    "result=[]\n",
    "for i in range(len(u)):\n",
    "    result.append(u[i]+v[i])\n",
    "\n",
    "print(\"u+v is\",result)\n",
    "\n",
    "# print the result vector similarly to a column vector\n",
    "print() # print an empty line\n",
    "print(\"The elements of u+v are:\")\n",
    "for j in range(len(result)):\n",
    "    print(result[j])"
   ]
  },
  {
   "cell_type": "markdown",
   "metadata": {
    "title": "Task 1: Create Two Random Vectors"
   },
   "source": [
    "### Task 1 \n",
    "\n",
    "Create two 7-dimensional vectors $u$ and $v$ as two different lists in Python, with entries randomly picked from the range $[-10, 10]$. \n",
    "\n",
    "Print their entries."
   ]
  },
  {
   "cell_type": "code",
   "execution_count": null,
   "metadata": {
    "title": "Solution for Task 1"
   },
   "outputs": [],
   "source": [
    "from random import randrange\n",
    "\n",
    "# your solution is here\n",
    "u = [randrange(-10, 11) for _ in range(7)]\n",
    "v = [randrange(-10, 11) for _ in range(7)]\n",
    "\n",
    "print(\"Vector u:\", u)\n",
    "print(\"Vector v:\", v)"
   ]
  },
  {
   "cell_type": "markdown",
   "metadata": {
    "title": "Task 2: Vector Subtraction and Scalar Multiplication"
   },
   "source": [
    "### Task 2 \n",
    "\n",
    "Using the vectors $u$ and $v$ from Task 1, find the vector $3u - 2v$ and print its entries. Remember, $3u$ and $2v$ mean scalar multiplication."
   ]
  },
  {
   "cell_type": "code",
   "execution_count": null,
   "metadata": {
    "title": "Solution for Task 2"
   },
   "outputs": [],
   "source": [
    "# your solution is here\n",
    "result_vector = []\n",
    "for i in range(len(u)):\n",
    "    result_vector.append(3 * u[i] - 2 * v[i])\n",
    "\n",
    "print(\"The vector (3u - 2v) is:\", result_vector)"
   ]
  },
  {
   "cell_type": "markdown",
   "metadata": {
    "title": "Visualization of 2D Vectors"
   },
   "source": [
    "### Visualization of vectors \n",
    "\n",
    "We can visualize vectors with dimensions up to 3. For simplicity, we'll use 2-dimensional vectors. \n",
    "\n",
    "Consider the vector $ v = \\begin{pmatrix} 1 \\\\ 2 \\end{pmatrix} $. \n",
    "\n",
    "A 2-dimensional vector is represented on a plane as an arrow from the origin $(0,0)$ to the point $(1,2)$."
   ]
  },
  {
   "cell_type": "code",
   "execution_count": null,
   "metadata": {
    "title": "Visualizing a Vector"
   },
   "outputs": [],
   "source": [
    "%run bronze_math.py\n",
    "visualize_vectors(\"example1\")"
   ]
  },
  {
   "cell_type": "markdown",
   "metadata": {
    "title": "Visualizing Scalar Multiplication"
   },
   "source": [
    "Let's visualize the vectors $ 2v = \\begin{pmatrix} 2 \\\\ 4 \\end{pmatrix} $ and $ -v = \\begin{pmatrix} -1 \\\\ -2 \\end{pmatrix} $ below.\n",
    "As we can observe, multiplying by 2 enlarges the vector, and multiplying by -1 reverses its direction."
   ]
  },
  {
   "cell_type": "code",
   "execution_count": null,
   "metadata": {
    "title": "Code for Visualizing Scalar Multiplication"
   },
   "outputs": [],
   "source": [
    "%run bronze_math.py\n",
    "visualize_vectors(\"example2\")"
   ]
  },
  {
   "cell_type": "markdown",
   "metadata": {
    "title": "The Length (Norm) of a Vector"
   },
   "source": [
    "### The length of a vector \n",
    "\n",
    "The **length** of a vector (also called its **norm**) is the distance from the origin $(0,0)$ to the point defined by the vector's entries. This can be calculated using the Pythagorean Theorem.\n",
    "\n",
    "Let's visualize the vector $ u = \\begin{pmatrix} -3 \\\\ 4 \\end{pmatrix} $ and its length."
   ]
  },
  {
   "cell_type": "code",
   "execution_count": null,
   "metadata": {
    "title": "Visualizing Vector Length"
   },
   "outputs": [],
   "source": [
    "%run bronze_math.py\n",
    "visualize_vectors(\"example3\")"
   ]
  },
  {
   "cell_type": "markdown",
   "metadata": {
    "title": "Calculating Vector Length"
   },
   "source": [
    "The length of $ u $ is denoted as $ \\|u\\| $, and it's calculated as $ \\|u\\| =\\sqrt{(-3)^2+4^2} = \\sqrt{9+16} = \\sqrt{25} = 5 $. \n",
    "\n",
    "To find the length, we sum the squares of each entry and then take the square root of the sum. This formula applies to vectors of any dimension.\n",
    "\n",
    "Let's find the length of the following vector using Python:\n",
    " \n",
    "$$\n",
    "    v = \\begin{pmatrix} -1 \\\\ -3 \\\\ 5 \\\\ 3 \\\\ 1 \\\\ 2 \\end{pmatrix}\n",
    "    ~~~~~~~~~~\n",
    "    \\mbox{and}\n",
    "    ~~~~~~~~~~\n",
    "    \\|v\\| = \\sqrt{(-1)^2+(-3)^2+5^2+3^2+1^2+2^2} .\n",
    "$$"
   ]
  },
  {
   "cell_type": "markdown",
   "metadata": {
    "title": "Python Math Tip: Power Operator"
   },
   "source": [
    "<div style=\"font-style:italic;background-color:#fafafa;font-size:10pt;\"> Remember: Python has a shorthand for power operations. \n",
    "    <ul>\n",
    "        <li> Generic form: $ a^x $ is written as `a ** x`. </li>\n",
    "        <li> Squaring a number $a$: $ a^2 $ is written as `a ** 2`. </li>\n",
    "        <li> Square root of a number $ a $: $ \\sqrt{a} = a^{0.5} $ is written as `a ** 0.5`.</li>\n",
    "    </ul>\n",
    "</div>"
   ]
  },
  {
   "cell_type": "code",
   "execution_count": null,
   "metadata": {
    "title": "Python Example: Calculating Vector Length"
   },
   "outputs": [],
   "source": [
    "from math import sqrt\n",
    "\n",
    "v = [-1,-3,5,3,1,2]\n",
    "\n",
    "length_square=0\n",
    "for i in range(len(v)):\n",
    "    square_val = v[i]**2\n",
    "    print(v[i], \": square ->\", square_val)\n",
    "    length_square += square_val\n",
    "\n",
    "length = length_square ** 0.5\n",
    "print(\"\\nThe summation of squares is\", length_square)\n",
    "print(\"The length is\", length)\n",
    "\n",
    "# You can also use the built-in math.sqrt function\n",
    "print(\"Using math.sqrt, the length is\", sqrt(length_square))"
   ]
  },
  {
   "cell_type": "markdown",
   "metadata": {
    "title": "Task 3: Scalar Multiplication and Vector Length"
   },
   "source": [
    "### Task 3 \n",
    "\n",
    "Let $ u = \\begin{pmatrix} 1 \\\\ -2 \\\\ -4 \\\\ 2 \\end{pmatrix} $. Verify in Python that $ \\|4 u\\| = 4 \\cdot \\|u\\| $."
   ]
  },
  {
   "cell_type": "code",
   "execution_count": null,
   "metadata": {
    "title": "Solution for Task 3"
   },
   "outputs": [],
   "source": [
    "# your solution is here\n",
    "u = [1, -2, -4, 2]\n",
    "\n",
    "# Calculate length of u\n",
    "len_u_sq = sum(x**2 for x in u)\n",
    "len_u = len_u_sq ** 0.5\n",
    "\n",
    "# Create vector 4u\n",
    "four_u = [4 * x for x in u]\n",
    "\n",
    "# Calculate length of 4u\n",
    "len_four_u_sq = sum(x**2 for x in four_u)\n",
    "len_four_u = len_four_u_sq ** 0.5\n",
    "\n",
    "print(\"Vector u:\", u)\n",
    "print(\"||u||:\", len_u)\n",
    "print(\"4 * ||u||:\", 4 * len_u)\n",
    "print(\"\\nVector 4u:\", four_u)\n",
    "print(\"||4u||:\", len_four_u)\n",
    "print(\"\\nIs ||4u|| equal to 4 * ||u||?\", abs(len_four_u - (4 * len_u)) < 1e-9)"
   ]
  },
  {
   "cell_type": "markdown",
   "metadata": {
    "title": "Note on Negative Scalars and Length"
   },
   "source": [
    "### Notes on Scalar Multiplication and Length\n",
    "\n",
    "When a vector is multiplied by a scalar (a number), its length is multiplied by the **absolute value** of that scalar.\n",
    "\n",
    "For example, the vector $-3v$ has the same length as $3v$, but it points in the opposite direction. Therefore, we use the absolute value of the scalar when calculating the new length:\n",
    "\n",
    "$ \\|-3 v\\| = |-3| \\cdot \\|v\\| = 3 \\cdot \\|v\\|  $.\n",
    "\n",
    "The absolute value of a number is its distance from 0, so $ |-3| = 3 $."
   ]
  },
  {
   "cell_type": "markdown",
   "metadata": {
    "title": "Task 4: Random Negative Scalar and Vector Length"
   },
   "source": [
    "### Task 4 \n",
    "\n",
    "Let $ u = \\begin{pmatrix} 1 \\\\ -2 \\\\ -4 \\\\ 2 \\end{pmatrix} $. Randomly pick a number $r$ from $ \\left\\{ \\dfrac{1}{10}, \\dfrac{2}{10}, \\cdots, \\dfrac{9}{10} \\right\\} $.\n",
    "\n",
    "Find the vector $(-r) \\cdot u$ and then calculate its length."
   ]
  },
  {
   "cell_type": "code",
   "execution_count": null,
   "metadata": {
    "title": "Solution for Task 4"
   },
   "outputs": [],
   "source": [
    "from random import choice\n",
    "\n",
    "# your solution is here\n",
    "u = [1, -2, -4, 2]\n",
    "r = choice([i/10 for i in range(1, 10)])\n",
    "scalar = -r\n",
    "\n",
    "# Create the new vector\n",
    "new_vector = [scalar * x for x in u]\n",
    "\n",
    "# Calculate its length\n",
    "length_sq = sum(x**2 for x in new_vector)\n",
    "length = length_sq ** 0.5\n",
    "\n",
    "print(\"Random scalar r:\", r)\n",
    "print(\"Scalar used (-r):\", scalar)\n",
    "print(\"Original vector u:\", u)\n",
    "print(\"New vector (-r)u:\", new_vector)\n",
    "print(\"Length of new vector:\", length)"
   ]
  }
 ],
 "metadata": {
  "kernelspec": {
   "display_name": "Python 3",
   "language": "python",
   "name": "python3"
  },
  "language_info": {
   "codemirror_mode": {
    "name": "ipython",
    "version": 3
   },
   "file_extension": ".py",
   "mimetype": "text/x-python",
   "name": "python",
   "nbconvert_exporter": "python",
   "pygments_lexer": "ipython3",
   "version": "3.7.1"
  },
  "title": "Math20: Introduction to Vectors",
  "authors": [
   {
    "name": "Abuzer Yakaryilmaz"
   }
  ]
 },
 "nbformat": 4,
 "nbformat_minor": 2
}
